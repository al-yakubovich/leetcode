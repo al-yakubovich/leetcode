{
 "cells": [
  {
   "cell_type": "code",
   "execution_count": 1,
   "id": "prepared-adrian",
   "metadata": {
    "ExecuteTime": {
     "end_time": "2021-03-05T22:13:07.670324Z",
     "start_time": "2021-03-05T22:13:07.644348Z"
    }
   },
   "outputs": [
    {
     "data": {
      "application/javascript": [
       "var rate = 0;\n",
       "// apply setting to  all current CodeMirror instances\n",
       "IPython.notebook.get_cells().map(\n",
       "    function(c) {  return c.code_mirror.options.cursorBlinkRate=rate;  }\n",
       ");\n",
       "// make sure new CodeMirror instance also use this setting\n",
       "CodeMirror.defaults.cursorBlinkRate=rate;\n"
      ],
      "text/plain": [
       "<IPython.core.display.Javascript object>"
      ]
     },
     "metadata": {},
     "output_type": "display_data"
    }
   ],
   "source": [
    "%%javascript\n",
    "var rate = 0;\n",
    "// apply setting to  all current CodeMirror instances\n",
    "IPython.notebook.get_cells().map(\n",
    "    function(c) {  return c.code_mirror.options.cursorBlinkRate=rate;  }\n",
    ");\n",
    "// make sure new CodeMirror instance also use this setting\n",
    "CodeMirror.defaults.cursorBlinkRate=rate;"
   ]
  },
  {
   "cell_type": "code",
   "execution_count": 2,
   "id": "dominican-twins",
   "metadata": {},
   "outputs": [
    {
     "data": {
      "text/html": [
       "<style>.container { width:95% !important; }</style>"
      ],
      "text/plain": [
       "<IPython.core.display.HTML object>"
      ]
     },
     "metadata": {},
     "output_type": "display_data"
    }
   ],
   "source": [
    "from IPython.core.display import display, HTML\n",
    "display(HTML(\"<style>.container { width:95% !important; }</style>\"))"
   ]
  },
  {
   "cell_type": "code",
   "execution_count": 5,
   "id": "sixth-culture",
   "metadata": {
    "ExecuteTime": {
     "end_time": "2021-03-05T22:13:07.908724Z",
     "start_time": "2021-03-05T22:13:07.904719Z"
    }
   },
   "outputs": [],
   "source": [
    "import math\n",
    "from typing import List\n",
    "import collections"
   ]
  },
  {
   "cell_type": "code",
   "execution_count": null,
   "id": "indian-catalyst",
   "metadata": {},
   "outputs": [],
   "source": []
  },
  {
   "cell_type": "code",
   "execution_count": 95,
   "id": "undefined-converter",
   "metadata": {
    "ExecuteTime": {
     "end_time": "2021-02-24T21:46:38.007697Z",
     "start_time": "2021-02-24T21:46:38.004701Z"
    }
   },
   "outputs": [],
   "source": [
    "nums = [1,2,3,4,5,6,7,8]\n",
    "k = 3"
   ]
  },
  {
   "cell_type": "code",
   "execution_count": 62,
   "id": "compound-blond",
   "metadata": {
    "ExecuteTime": {
     "end_time": "2021-02-24T00:22:10.947752Z",
     "start_time": "2021-02-24T00:22:10.943698Z"
    }
   },
   "outputs": [
    {
     "data": {
      "text/plain": [
       "[5, 6, 7, 1, 2, 3, 4]"
      ]
     },
     "execution_count": 62,
     "metadata": {},
     "output_type": "execute_result"
    }
   ],
   "source": [
    "nums[-k:] + nums[:-k]"
   ]
  },
  {
   "cell_type": "code",
   "execution_count": null,
   "id": "younger-making",
   "metadata": {},
   "outputs": [],
   "source": []
  },
  {
   "cell_type": "code",
   "execution_count": 96,
   "id": "conceptual-fortune",
   "metadata": {
    "ExecuteTime": {
     "end_time": "2021-02-24T21:46:39.250727Z",
     "start_time": "2021-02-24T21:46:39.246698Z"
    }
   },
   "outputs": [],
   "source": [
    "# O(1) time\n",
    "# O(n) space\n",
    "\n",
    "def rotate(nums, k):\n",
    "     k = k % len(nums)\n",
    "    print(k)\n",
    "    nums[:] = nums[-k:] + nums[:-k] "
   ]
  },
  {
   "cell_type": "code",
   "execution_count": 97,
   "id": "excessive-kinase",
   "metadata": {
    "ExecuteTime": {
     "end_time": "2021-02-24T21:46:39.949694Z",
     "start_time": "2021-02-24T21:46:39.944693Z"
    }
   },
   "outputs": [
    {
     "name": "stdout",
     "output_type": "stream",
     "text": [
      "3\n"
     ]
    }
   ],
   "source": [
    "rotate(nums, k)"
   ]
  },
  {
   "cell_type": "code",
   "execution_count": 98,
   "id": "applicable-violin",
   "metadata": {
    "ExecuteTime": {
     "end_time": "2021-02-24T21:46:41.813698Z",
     "start_time": "2021-02-24T21:46:41.808695Z"
    }
   },
   "outputs": [
    {
     "data": {
      "text/plain": [
       "[6, 7, 8, 1, 2, 3, 4, 5]"
      ]
     },
     "execution_count": 98,
     "metadata": {},
     "output_type": "execute_result"
    }
   ],
   "source": [
    "nums"
   ]
  },
  {
   "cell_type": "code",
   "execution_count": 120,
   "id": "written-welsh",
   "metadata": {
    "ExecuteTime": {
     "end_time": "2021-02-24T22:04:51.221366Z",
     "start_time": "2021-02-24T22:04:51.216399Z"
    }
   },
   "outputs": [
    {
     "data": {
      "text/plain": [
       "0"
      ]
     },
     "execution_count": 120,
     "metadata": {},
     "output_type": "execute_result"
    }
   ],
   "source": [
    " 7 % 7"
   ]
  },
  {
   "cell_type": "code",
   "execution_count": 126,
   "id": "infectious-plate",
   "metadata": {
    "ExecuteTime": {
     "end_time": "2021-02-24T23:36:54.554294Z",
     "start_time": "2021-02-24T23:36:54.548303Z"
    }
   },
   "outputs": [],
   "source": [
    "# O(n) time\n",
    "# O(1) space\n",
    "\n",
    "def rotate(nums, k):\n",
    "    n = len(nums)\n",
    "    k %= n\n",
    "\n",
    "    start = count = 0\n",
    "    while count < n:\n",
    "        current, prev = start, nums[start]\n",
    "        while True:\n",
    "            next_idx = (current + k) % n\n",
    "            nums[next_idx], prev = prev, nums[next_idx]\n",
    "            current = next_idx\n",
    "            count += 1\n",
    "\n",
    "            if start == current:\n",
    "                break\n",
    "        start += 1"
   ]
  },
  {
   "cell_type": "code",
   "execution_count": null,
   "id": "certified-moldova",
   "metadata": {},
   "outputs": [],
   "source": []
  },
  {
   "cell_type": "code",
   "execution_count": 123,
   "id": "faced-instrumentation",
   "metadata": {
    "ExecuteTime": {
     "end_time": "2021-02-24T23:23:26.970762Z",
     "start_time": "2021-02-24T23:23:26.963258Z"
    }
   },
   "outputs": [
    {
     "data": {
      "text/plain": [
       "'0x11ae849a908'"
      ]
     },
     "execution_count": 123,
     "metadata": {},
     "output_type": "execute_result"
    }
   ],
   "source": [
    "hex(id(nums))"
   ]
  },
  {
   "cell_type": "code",
   "execution_count": 124,
   "id": "specified-pipeline",
   "metadata": {
    "ExecuteTime": {
     "end_time": "2021-02-24T23:23:37.018017Z",
     "start_time": "2021-02-24T23:23:37.012986Z"
    }
   },
   "outputs": [
    {
     "data": {
      "text/plain": [
       "'0x11ae87ce488'"
      ]
     },
     "execution_count": 124,
     "metadata": {},
     "output_type": "execute_result"
    }
   ],
   "source": [
    "hex(id(nums[:5]))"
   ]
  },
  {
   "cell_type": "code",
   "execution_count": null,
   "id": "sealed-punishment",
   "metadata": {},
   "outputs": [],
   "source": []
  },
  {
   "cell_type": "code",
   "execution_count": 197,
   "id": "nuclear-baghdad",
   "metadata": {
    "ExecuteTime": {
     "end_time": "2021-02-25T00:28:22.824385Z",
     "start_time": "2021-02-25T00:28:22.819390Z"
    }
   },
   "outputs": [],
   "source": [
    "nums = [1,2,3,4,5,6,7]\n",
    "k = 3"
   ]
  },
  {
   "cell_type": "code",
   "execution_count": 198,
   "id": "integral-phenomenon",
   "metadata": {
    "ExecuteTime": {
     "end_time": "2021-02-25T00:28:23.066904Z",
     "start_time": "2021-02-25T00:28:23.057905Z"
    }
   },
   "outputs": [],
   "source": [
    "# O(1) time\n",
    "# O(n) space\n",
    "\n",
    "class Solution():\n",
    "    \n",
    "\n",
    "    def reverse(self, nums: list, start: int, end: int) -> None:\n",
    "        while start < end:\n",
    "            nums[start], nums[end] = nums[end], nums[start]\n",
    "            start, end = start + 1, end - 1\n",
    "    \n",
    "        \n",
    "    def rotate(self, nums: List[int], k: int) -> None:\n",
    "        n = len(nums)\n",
    "        k %= n\n",
    "\n",
    "        \n",
    "        print(nums)\n",
    "        print(hex(id(nums)))\n",
    "        \n",
    "        self.reverse(nums, 0, n - 1)\n",
    "        \n",
    "        print(nums)\n",
    "        print(hex(id(nums)))\n",
    "        \n",
    "        self.reverse(nums, 0, k - 1)\n",
    "        \n",
    "        print(nums)\n",
    "        print(hex(id(nums)))\n",
    "        \n",
    "        self.reverse(nums, k, n - 1)\n",
    "        \n",
    "        print(nums)\n",
    "        print(hex(id(nums)))"
   ]
  },
  {
   "cell_type": "code",
   "execution_count": 199,
   "id": "proprietary-favor",
   "metadata": {
    "ExecuteTime": {
     "end_time": "2021-02-25T00:28:23.978876Z",
     "start_time": "2021-02-25T00:28:23.973617Z"
    }
   },
   "outputs": [
    {
     "name": "stdout",
     "output_type": "stream",
     "text": [
      "[1, 2, 3, 4, 5, 6, 7]\n",
      "0x11ae8801308\n",
      "[7, 6, 5, 4, 3, 2, 1]\n",
      "0x11ae8801308\n",
      "[5, 6, 7, 4, 3, 2, 1]\n",
      "0x11ae8801308\n",
      "[5, 6, 7, 1, 2, 3, 4]\n",
      "0x11ae8801308\n"
     ]
    }
   ],
   "source": [
    "S = Solution()\n",
    "\n",
    "S.rotate(nums,k)"
   ]
  },
  {
   "cell_type": "code",
   "execution_count": 196,
   "id": "divine-captain",
   "metadata": {
    "ExecuteTime": {
     "end_time": "2021-02-25T00:26:44.197679Z",
     "start_time": "2021-02-25T00:26:44.192087Z"
    }
   },
   "outputs": [
    {
     "data": {
      "text/plain": [
       "[7, 1, 2, 3, 4, 5, 6]"
      ]
     },
     "execution_count": 196,
     "metadata": {},
     "output_type": "execute_result"
    }
   ],
   "source": [
    "nums"
   ]
  },
  {
   "cell_type": "code",
   "execution_count": null,
   "id": "expired-tribune",
   "metadata": {},
   "outputs": [],
   "source": []
  }
 ],
 "metadata": {
  "kernelspec": {
   "display_name": "Python [conda env:py36] *",
   "language": "python",
   "name": "conda-env-py36-py"
  },
  "language_info": {
   "codemirror_mode": {
    "name": "ipython",
    "version": 3
   },
   "file_extension": ".py",
   "mimetype": "text/x-python",
   "name": "python",
   "nbconvert_exporter": "python",
   "pygments_lexer": "ipython3",
   "version": "3.6.12"
  },
  "toc": {
   "base_numbering": 1,
   "nav_menu": {},
   "number_sections": true,
   "sideBar": true,
   "skip_h1_title": false,
   "title_cell": "Table of Contents",
   "title_sidebar": "Contents",
   "toc_cell": false,
   "toc_position": {},
   "toc_section_display": true,
   "toc_window_display": false
  },
  "varInspector": {
   "cols": {
    "lenName": 16,
    "lenType": 16,
    "lenVar": 40
   },
   "kernels_config": {
    "python": {
     "delete_cmd_postfix": "",
     "delete_cmd_prefix": "del ",
     "library": "var_list.py",
     "varRefreshCmd": "print(var_dic_list())"
    },
    "r": {
     "delete_cmd_postfix": ") ",
     "delete_cmd_prefix": "rm(",
     "library": "var_list.r",
     "varRefreshCmd": "cat(var_dic_list()) "
    }
   },
   "types_to_exclude": [
    "module",
    "function",
    "builtin_function_or_method",
    "instance",
    "_Feature"
   ],
   "window_display": false
  }
 },
 "nbformat": 4,
 "nbformat_minor": 5
}
