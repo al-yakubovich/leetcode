{
 "cells": [
  {
   "cell_type": "code",
   "execution_count": 1,
   "id": "retained-belfast",
   "metadata": {
    "ExecuteTime": {
     "end_time": "2021-03-05T22:13:07.670324Z",
     "start_time": "2021-03-05T22:13:07.644348Z"
    }
   },
   "outputs": [
    {
     "data": {
      "application/javascript": [
       "var rate = 0;\n",
       "// apply setting to  all current CodeMirror instances\n",
       "IPython.notebook.get_cells().map(\n",
       "    function(c) {  return c.code_mirror.options.cursorBlinkRate=rate;  }\n",
       ");\n",
       "// make sure new CodeMirror instance also use this setting\n",
       "CodeMirror.defaults.cursorBlinkRate=rate;\n"
      ],
      "text/plain": [
       "<IPython.core.display.Javascript object>"
      ]
     },
     "metadata": {},
     "output_type": "display_data"
    }
   ],
   "source": [
    "%%javascript\n",
    "var rate = 0;\n",
    "// apply setting to  all current CodeMirror instances\n",
    "IPython.notebook.get_cells().map(\n",
    "    function(c) {  return c.code_mirror.options.cursorBlinkRate=rate;  }\n",
    ");\n",
    "// make sure new CodeMirror instance also use this setting\n",
    "CodeMirror.defaults.cursorBlinkRate=rate;"
   ]
  },
  {
   "cell_type": "code",
   "execution_count": 2,
   "id": "respiratory-synthesis",
   "metadata": {},
   "outputs": [
    {
     "data": {
      "text/html": [
       "<style>.container { width:95% !important; }</style>"
      ],
      "text/plain": [
       "<IPython.core.display.HTML object>"
      ]
     },
     "metadata": {},
     "output_type": "display_data"
    }
   ],
   "source": [
    "from IPython.core.display import display, HTML\n",
    "display(HTML(\"<style>.container { width:95% !important; }</style>\"))"
   ]
  },
  {
   "cell_type": "code",
   "execution_count": 5,
   "id": "civic-protest",
   "metadata": {
    "ExecuteTime": {
     "end_time": "2021-03-05T22:13:07.908724Z",
     "start_time": "2021-03-05T22:13:07.904719Z"
    }
   },
   "outputs": [],
   "source": [
    "import math\n",
    "from typing import List\n",
    "import collections"
   ]
  },
  {
   "cell_type": "code",
   "execution_count": null,
   "id": "human-perspective",
   "metadata": {},
   "outputs": [],
   "source": []
  },
  {
   "cell_type": "code",
   "execution_count": 65,
   "id": "dated-satin",
   "metadata": {},
   "outputs": [],
   "source": [
    "def smallest_subarray_with_given_sum(s, arr):\n",
    "    window_sum = 0\n",
    "    min_length = math.inf\n",
    "    window_start = 0\n",
    "    \n",
    "    for window_end in range(0, len(arr)):\n",
    "        window_sum += arr[window_end] # add the next element\n",
    "        # shrink the window as small as possible until the 'window_sum' is smaller than 's'\n",
    "        print('window_sum:', window_sum)\n",
    "        while window_sum >= s:\n",
    "            print(' while:')\n",
    "            print(' min_length:', min_length)\n",
    "            print(' window_end:', window_end)\n",
    "            print(' window_start:', window_start)\n",
    "            print(' window_end - window_start + 1:', window_end - window_start + 1)\n",
    "            min_length = min(min_length, window_end - window_start + 1)\n",
    "            \n",
    "            window_sum -= arr[window_start]\n",
    "            window_start += 1\n",
    "            \n",
    "            print(' -----------------')\n",
    "        print('=========================')\n",
    "            \n",
    "    if min_length == math.inf:\n",
    "        return 0\n",
    "    return min_length"
   ]
  },
  {
   "cell_type": "code",
   "execution_count": 66,
   "id": "boxed-scholarship",
   "metadata": {},
   "outputs": [
    {
     "name": "stdout",
     "output_type": "stream",
     "text": [
      "window_sum: 2\n",
      "=========================\n",
      "window_sum: 3\n",
      "=========================\n",
      "window_sum: 8\n",
      " while:\n",
      " min_length: inf\n",
      " window_end: 2\n",
      " window_start: 1\n",
      " window_end - window_start + 1: 1\n",
      " -----------------\n",
      " while:\n",
      " min_length: 2\n",
      " window_end: 2\n",
      " window_start: 2\n",
      " window_end - window_start + 1: 0\n",
      " -----------------\n",
      "=========================\n",
      "window_sum: 4\n",
      "=========================\n",
      "window_sum: 7\n",
      " while:\n",
      " min_length: 1\n",
      " window_end: 4\n",
      " window_start: 3\n",
      " window_end - window_start + 1: 1\n",
      " -----------------\n",
      "=========================\n",
      "window_sum: 7\n",
      " while:\n",
      " min_length: 1\n",
      " window_end: 5\n",
      " window_start: 4\n",
      " window_end - window_start + 1: 1\n",
      " -----------------\n",
      "=========================\n",
      "1\n"
     ]
    }
   ],
   "source": [
    "nums = [2, 1, 5, 2, 3, 2]\n",
    "s = 7\n",
    "print(smallest_subarray_with_given_sum(s, nums))"
   ]
  },
  {
   "cell_type": "code",
   "execution_count": null,
   "id": "attractive-equation",
   "metadata": {},
   "outputs": [],
   "source": []
  }
 ],
 "metadata": {
  "kernelspec": {
   "display_name": "Python [conda env:py36] *",
   "language": "python",
   "name": "conda-env-py36-py"
  },
  "language_info": {
   "codemirror_mode": {
    "name": "ipython",
    "version": 3
   },
   "file_extension": ".py",
   "mimetype": "text/x-python",
   "name": "python",
   "nbconvert_exporter": "python",
   "pygments_lexer": "ipython3",
   "version": "3.6.12"
  },
  "toc": {
   "base_numbering": 1,
   "nav_menu": {},
   "number_sections": true,
   "sideBar": true,
   "skip_h1_title": false,
   "title_cell": "Table of Contents",
   "title_sidebar": "Contents",
   "toc_cell": false,
   "toc_position": {},
   "toc_section_display": true,
   "toc_window_display": false
  },
  "varInspector": {
   "cols": {
    "lenName": 16,
    "lenType": 16,
    "lenVar": 40
   },
   "kernels_config": {
    "python": {
     "delete_cmd_postfix": "",
     "delete_cmd_prefix": "del ",
     "library": "var_list.py",
     "varRefreshCmd": "print(var_dic_list())"
    },
    "r": {
     "delete_cmd_postfix": ") ",
     "delete_cmd_prefix": "rm(",
     "library": "var_list.r",
     "varRefreshCmd": "cat(var_dic_list()) "
    }
   },
   "types_to_exclude": [
    "module",
    "function",
    "builtin_function_or_method",
    "instance",
    "_Feature"
   ],
   "window_display": false
  }
 },
 "nbformat": 4,
 "nbformat_minor": 5
}
