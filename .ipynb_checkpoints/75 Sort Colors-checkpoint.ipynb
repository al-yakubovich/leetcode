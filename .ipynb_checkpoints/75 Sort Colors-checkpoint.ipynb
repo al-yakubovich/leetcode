{
 "cells": [
  {
   "cell_type": "raw",
   "id": "dutch-asbestos",
   "metadata": {},
   "source": [
    "# to resize image afte attachment use the following fix:\n",
    "\n",
    "![image.jpg](attachment:image.jpg)\n",
    "\n",
    "<div>\n",
    "<img src=\"attachment:image.jpg\" align=\"left\" width=\"500\"/>\n",
    "</div>"
   ]
  },
  {
   "cell_type": "code",
   "execution_count": 4,
   "id": "sapphire-biography",
   "metadata": {
    "ExecuteTime": {
     "end_time": "2021-03-05T22:13:07.670324Z",
     "start_time": "2021-03-05T22:13:07.644348Z"
    }
   },
   "outputs": [
    {
     "data": {
      "application/javascript": [
       "var rate = 0;\n",
       "// apply setting to  all current CodeMirror instances\n",
       "IPython.notebook.get_cells().map(\n",
       "    function(c) {  return c.code_mirror.options.cursorBlinkRate=rate;  }\n",
       ");\n",
       "// make sure new CodeMirror instance also use this setting\n",
       "CodeMirror.defaults.cursorBlinkRate=rate;\n"
      ],
      "text/plain": [
       "<IPython.core.display.Javascript object>"
      ]
     },
     "metadata": {},
     "output_type": "display_data"
    }
   ],
   "source": [
    "%%javascript\n",
    "var rate = 0;\n",
    "// apply setting to  all current CodeMirror instances\n",
    "IPython.notebook.get_cells().map(\n",
    "    function(c) {  return c.code_mirror.options.cursorBlinkRate=rate;  }\n",
    ");\n",
    "// make sure new CodeMirror instance also use this setting\n",
    "CodeMirror.defaults.cursorBlinkRate=rate;"
   ]
  },
  {
   "cell_type": "code",
   "execution_count": 5,
   "id": "swedish-approval",
   "metadata": {
    "scrolled": true
   },
   "outputs": [
    {
     "data": {
      "text/html": [
       "<style>.container { width:100% !important; }</style>"
      ],
      "text/plain": [
       "<IPython.core.display.HTML object>"
      ]
     },
     "metadata": {},
     "output_type": "display_data"
    }
   ],
   "source": [
    "from IPython.core.display import display, HTML\n",
    "display(HTML(\"<style>.container { width:100% !important; }</style>\"))"
   ]
  },
  {
   "cell_type": "code",
   "execution_count": 6,
   "id": "driven-neutral",
   "metadata": {
    "ExecuteTime": {
     "end_time": "2021-03-05T22:13:07.908724Z",
     "start_time": "2021-03-05T22:13:07.904719Z"
    }
   },
   "outputs": [],
   "source": [
    "import math\n",
    "from typing import List\n",
    "import collections"
   ]
  },
  {
   "cell_type": "code",
   "execution_count": null,
   "id": "solar-finance",
   "metadata": {},
   "outputs": [],
   "source": [
    "# to resize image afte attachment use the following fix:\n",
    "\n",
    "![image.jpg](attachment:image.jpg)\n",
    "\n",
    "<div>\n",
    "<img src=\"attachment:image.jpg\" align=\"left\" width=\"500\"/>\n",
    "</div>\n",
    "\n",
    "%%javascript\n",
    "var rate = 0;\n",
    "// apply setting to  all current CodeMirror instances\n",
    "IPython.notebook.get_cells().map(\n",
    "    function(c) {  return c.code_mirror.options.cursorBlinkRate=rate;  }\n",
    ");\n",
    "// make sure new CodeMirror instance also use this setting\n",
    "CodeMirror.defaults.cursorBlinkRate=rate;\n",
    "\n",
    "from IPython.core.display import display, HTML\n",
    "display(HTML(\"<style>.container { width:100% !important; }</style>\"))\n",
    "\n",
    "import math\n",
    "from typing import List\n",
    "import collections"
   ]
  },
  {
   "cell_type": "code",
   "execution_count": null,
   "id": "different-victim",
   "metadata": {},
   "outputs": [],
   "source": []
  },
  {
   "cell_type": "code",
   "execution_count": null,
   "id": "frank-distributor",
   "metadata": {},
   "outputs": [],
   "source": []
  },
  {
   "cell_type": "raw",
   "id": "enabling-hudson",
   "metadata": {},
   "source": [
    "0 0 0 0 1 1 1 1 0 1 2 0 1 2 0 1 1 1 0 2 2 2 2\n",
    "        ↑       ↑                   ↑  \n",
    "        l       i                   r "
   ]
  },
  {
   "cell_type": "code",
   "execution_count": 89,
   "id": "worst-percentage",
   "metadata": {},
   "outputs": [],
   "source": [
    "def sort_array(a: List[int]) -> List[int]:\n",
    "    # edge_cases(a) == False: return 'edge cases are not satisfied'\n",
    "    l, r = 0, len(a) - 1\n",
    "    i = 0\n",
    "    while i <= r:\n",
    "        \n",
    "        if a[i] == 0:\n",
    "            # numbers between l and i could be only 1s becouseall 2s were swaped. \n",
    "            # so l will point to 1 and we can swap it and incremnt i as well \n",
    "            a[i], a[l] = a[l], a[i]\n",
    "            l += 1\n",
    "            i += 1\n",
    "        elif a[i] == 1:\n",
    "            i += 1\n",
    "        else:\n",
    "            a[i], a[r] = a[r], a[i]\n",
    "            r -= 1\n",
    "    return a"
   ]
  },
  {
   "cell_type": "code",
   "execution_count": 90,
   "id": "double-audience",
   "metadata": {},
   "outputs": [
    {
     "data": {
      "text/plain": [
       "[0, 0, 1, 1, 2]"
      ]
     },
     "execution_count": 90,
     "metadata": {},
     "output_type": "execute_result"
    }
   ],
   "source": [
    "a = [1, 0, 2, 1, 0]\n",
    "sort_array(a)"
   ]
  },
  {
   "cell_type": "code",
   "execution_count": null,
   "id": "communist-notion",
   "metadata": {},
   "outputs": [],
   "source": []
  },
  {
   "cell_type": "code",
   "execution_count": null,
   "id": "consolidated-angle",
   "metadata": {},
   "outputs": [],
   "source": []
  },
  {
   "cell_type": "code",
   "execution_count": null,
   "id": "medical-storage",
   "metadata": {},
   "outputs": [],
   "source": [
    "# count sort    \n",
    "def sortColors1(self, nums):\n",
    "    c0 = c1 = c2 = 0\n",
    "    for num in nums:\n",
    "        if num == 0:\n",
    "            c0 += 1\n",
    "        elif num == 1:\n",
    "            c1 += 1\n",
    "        else:\n",
    "            c2 += 1\n",
    "    nums[:c0] = [0] * c0\n",
    "    nums[c0:c0+c1] = [1] * c1\n",
    "    nums[c0+c1:] = [2] * c2"
   ]
  },
  {
   "cell_type": "code",
   "execution_count": 91,
   "id": "manufactured-sessions",
   "metadata": {},
   "outputs": [
    {
     "data": {
      "text/plain": [
       "Counter({1: 2, 0: 2, 2: 1})"
      ]
     },
     "execution_count": 91,
     "metadata": {},
     "output_type": "execute_result"
    }
   ],
   "source": [
    "collections.Counter([1, 0, 2, 1, 0])"
   ]
  },
  {
   "cell_type": "code",
   "execution_count": null,
   "id": "native-charleston",
   "metadata": {},
   "outputs": [],
   "source": []
  }
 ],
 "metadata": {
  "kernelspec": {
   "display_name": "Python [conda env:py36] *",
   "language": "python",
   "name": "conda-env-py36-py"
  },
  "language_info": {
   "codemirror_mode": {
    "name": "ipython",
    "version": 3
   },
   "file_extension": ".py",
   "mimetype": "text/x-python",
   "name": "python",
   "nbconvert_exporter": "python",
   "pygments_lexer": "ipython3",
   "version": "3.6.12"
  },
  "toc": {
   "base_numbering": 1,
   "nav_menu": {},
   "number_sections": true,
   "sideBar": true,
   "skip_h1_title": false,
   "title_cell": "Table of Contents",
   "title_sidebar": "Contents",
   "toc_cell": false,
   "toc_position": {},
   "toc_section_display": true,
   "toc_window_display": false
  },
  "varInspector": {
   "cols": {
    "lenName": 16,
    "lenType": 16,
    "lenVar": 40
   },
   "kernels_config": {
    "python": {
     "delete_cmd_postfix": "",
     "delete_cmd_prefix": "del ",
     "library": "var_list.py",
     "varRefreshCmd": "print(var_dic_list())"
    },
    "r": {
     "delete_cmd_postfix": ") ",
     "delete_cmd_prefix": "rm(",
     "library": "var_list.r",
     "varRefreshCmd": "cat(var_dic_list()) "
    }
   },
   "types_to_exclude": [
    "module",
    "function",
    "builtin_function_or_method",
    "instance",
    "_Feature"
   ],
   "window_display": false
  }
 },
 "nbformat": 4,
 "nbformat_minor": 5
}
