{
 "cells": [
  {
   "cell_type": "code",
   "execution_count": 1,
   "id": "united-gamma",
   "metadata": {
    "ExecuteTime": {
     "end_time": "2021-03-05T22:13:07.670324Z",
     "start_time": "2021-03-05T22:13:07.644348Z"
    }
   },
   "outputs": [
    {
     "data": {
      "application/javascript": [
       "var rate = 0;\n",
       "// apply setting to  all current CodeMirror instances\n",
       "IPython.notebook.get_cells().map(\n",
       "    function(c) {  return c.code_mirror.options.cursorBlinkRate=rate;  }\n",
       ");\n",
       "// make sure new CodeMirror instance also use this setting\n",
       "CodeMirror.defaults.cursorBlinkRate=rate;\n"
      ],
      "text/plain": [
       "<IPython.core.display.Javascript object>"
      ]
     },
     "metadata": {},
     "output_type": "display_data"
    }
   ],
   "source": [
    "%%javascript\n",
    "var rate = 0;\n",
    "// apply setting to  all current CodeMirror instances\n",
    "IPython.notebook.get_cells().map(\n",
    "    function(c) {  return c.code_mirror.options.cursorBlinkRate=rate;  }\n",
    ");\n",
    "// make sure new CodeMirror instance also use this setting\n",
    "CodeMirror.defaults.cursorBlinkRate=rate;"
   ]
  },
  {
   "cell_type": "code",
   "execution_count": 2,
   "id": "commercial-booth",
   "metadata": {},
   "outputs": [
    {
     "data": {
      "text/html": [
       "<style>.container { width:95% !important; }</style>"
      ],
      "text/plain": [
       "<IPython.core.display.HTML object>"
      ]
     },
     "metadata": {},
     "output_type": "display_data"
    }
   ],
   "source": [
    "from IPython.core.display import display, HTML\n",
    "display(HTML(\"<style>.container { width:95% !important; }</style>\"))"
   ]
  },
  {
   "cell_type": "code",
   "execution_count": 116,
   "id": "brilliant-advantage",
   "metadata": {
    "ExecuteTime": {
     "end_time": "2021-02-21T23:42:58.487514Z",
     "start_time": "2021-02-21T23:42:58.483515Z"
    }
   },
   "outputs": [],
   "source": [
    "# nums = [-2,1,-3,4,-1,2,1,-5,4]\n",
    "\n",
    "nums = [-2,-3,-1,-5]\n"
   ]
  },
  {
   "cell_type": "code",
   "execution_count": 117,
   "id": "actual-folks",
   "metadata": {
    "ExecuteTime": {
     "end_time": "2021-02-21T23:42:58.747507Z",
     "start_time": "2021-02-21T23:42:58.743503Z"
    }
   },
   "outputs": [],
   "source": [
    "sum = 0 \n",
    "max_sum = -math.inf\n",
    "\n",
    "for i in range(len(nums)):\n",
    "    for j in range(i, len(nums)):\n",
    "        k = i\n",
    "        while k <= j:\n",
    "            sum += nums[k]\n",
    "            k += 1\n",
    "        max_sum = max(max_sum, sum)     \n",
    "        sum = 0"
   ]
  },
  {
   "cell_type": "code",
   "execution_count": 118,
   "id": "lesser-packet",
   "metadata": {
    "ExecuteTime": {
     "end_time": "2021-02-21T23:42:58.953504Z",
     "start_time": "2021-02-21T23:42:58.948502Z"
    }
   },
   "outputs": [
    {
     "data": {
      "text/plain": [
       "-1"
      ]
     },
     "execution_count": 118,
     "metadata": {},
     "output_type": "execute_result"
    }
   ],
   "source": [
    "max_sum"
   ]
  },
  {
   "cell_type": "code",
   "execution_count": null,
   "id": "promotional-nancy",
   "metadata": {},
   "outputs": [],
   "source": []
  },
  {
   "cell_type": "markdown",
   "id": "innovative-adaptation",
   "metadata": {},
   "source": [
    "If the sum of a subarray is positive, it has possible to make the next value bigger, so we keep do it until it turn to negative.\n",
    "If the sum is negative, it has no use to the next element, so we break.\n",
    "it is a game of sum, not the elements."
   ]
  },
  {
   "cell_type": "code",
   "execution_count": 107,
   "id": "endangered-delivery",
   "metadata": {
    "ExecuteTime": {
     "end_time": "2021-02-21T23:32:33.100886Z",
     "start_time": "2021-02-21T23:32:33.095884Z"
    }
   },
   "outputs": [],
   "source": [
    "nums = [-2,1,-3,4,-1,2,1,-5,4]"
   ]
  },
  {
   "cell_type": "code",
   "execution_count": 112,
   "id": "statutory-violence",
   "metadata": {
    "ExecuteTime": {
     "end_time": "2021-02-21T23:33:22.971377Z",
     "start_time": "2021-02-21T23:33:22.965382Z"
    }
   },
   "outputs": [
    {
     "name": "stdout",
     "output_type": "stream",
     "text": [
      "-1\n"
     ]
    }
   ],
   "source": [
    "for i in range(1, len(nums)):\n",
    "    if nums[i-1] > 0:\n",
    "        nums[i] += nums[i-1]\n",
    "print(max(nums))"
   ]
  },
  {
   "cell_type": "code",
   "execution_count": null,
   "id": "imported-hunger",
   "metadata": {},
   "outputs": [],
   "source": []
  }
 ],
 "metadata": {
  "kernelspec": {
   "display_name": "Python [conda env:py36] *",
   "language": "python",
   "name": "conda-env-py36-py"
  },
  "language_info": {
   "codemirror_mode": {
    "name": "ipython",
    "version": 3
   },
   "file_extension": ".py",
   "mimetype": "text/x-python",
   "name": "python",
   "nbconvert_exporter": "python",
   "pygments_lexer": "ipython3",
   "version": "3.6.12"
  },
  "toc": {
   "base_numbering": 1,
   "nav_menu": {},
   "number_sections": true,
   "sideBar": true,
   "skip_h1_title": false,
   "title_cell": "Table of Contents",
   "title_sidebar": "Contents",
   "toc_cell": false,
   "toc_position": {},
   "toc_section_display": true,
   "toc_window_display": false
  },
  "varInspector": {
   "cols": {
    "lenName": 16,
    "lenType": 16,
    "lenVar": 40
   },
   "kernels_config": {
    "python": {
     "delete_cmd_postfix": "",
     "delete_cmd_prefix": "del ",
     "library": "var_list.py",
     "varRefreshCmd": "print(var_dic_list())"
    },
    "r": {
     "delete_cmd_postfix": ") ",
     "delete_cmd_prefix": "rm(",
     "library": "var_list.r",
     "varRefreshCmd": "cat(var_dic_list()) "
    }
   },
   "types_to_exclude": [
    "module",
    "function",
    "builtin_function_or_method",
    "instance",
    "_Feature"
   ],
   "window_display": false
  }
 },
 "nbformat": 4,
 "nbformat_minor": 5
}
