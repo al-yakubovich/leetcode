{
 "cells": [
  {
   "cell_type": "raw",
   "id": "ruled-advertising",
   "metadata": {},
   "source": [
    "# to resize image afte attachment use the following fix:\n",
    "\n",
    "![image.jpg](attachment:image.jpg)\n",
    "\n",
    "<div>\n",
    "<img src=\"attachment:image.jpg\" align=\"left\" width=\"500\"/>\n",
    "</div>"
   ]
  },
  {
   "cell_type": "code",
   "execution_count": 1,
   "id": "robust-offset",
   "metadata": {
    "ExecuteTime": {
     "end_time": "2021-03-05T22:13:07.670324Z",
     "start_time": "2021-03-05T22:13:07.644348Z"
    }
   },
   "outputs": [
    {
     "data": {
      "application/javascript": [
       "var rate = 0;\n",
       "// apply setting to  all current CodeMirror instances\n",
       "IPython.notebook.get_cells().map(\n",
       "    function(c) {  return c.code_mirror.options.cursorBlinkRate=rate;  }\n",
       ");\n",
       "// make sure new CodeMirror instance also use this setting\n",
       "CodeMirror.defaults.cursorBlinkRate=rate;\n"
      ],
      "text/plain": [
       "<IPython.core.display.Javascript object>"
      ]
     },
     "metadata": {},
     "output_type": "display_data"
    }
   ],
   "source": [
    "%%javascript\n",
    "var rate = 0;\n",
    "// apply setting to  all current CodeMirror instances\n",
    "IPython.notebook.get_cells().map(\n",
    "    function(c) {  return c.code_mirror.options.cursorBlinkRate=rate;  }\n",
    ");\n",
    "// make sure new CodeMirror instance also use this setting\n",
    "CodeMirror.defaults.cursorBlinkRate=rate;"
   ]
  },
  {
   "cell_type": "code",
   "execution_count": 2,
   "id": "structured-seminar",
   "metadata": {},
   "outputs": [
    {
     "data": {
      "text/html": [
       "<style>.container { width:95% !important; }</style>"
      ],
      "text/plain": [
       "<IPython.core.display.HTML object>"
      ]
     },
     "metadata": {},
     "output_type": "display_data"
    }
   ],
   "source": [
    "from IPython.core.display import display, HTML\n",
    "display(HTML(\"<style>.container { width:95% !important; }</style>\"))"
   ]
  },
  {
   "cell_type": "code",
   "execution_count": 5,
   "id": "resistant-content",
   "metadata": {
    "ExecuteTime": {
     "end_time": "2021-03-05T22:13:07.908724Z",
     "start_time": "2021-03-05T22:13:07.904719Z"
    }
   },
   "outputs": [],
   "source": [
    "import math\n",
    "from typing import List\n",
    "import collections"
   ]
  },
  {
   "cell_type": "code",
   "execution_count": null,
   "id": "living-bonus",
   "metadata": {},
   "outputs": [],
   "source": []
  },
  {
   "cell_type": "code",
   "execution_count": 14,
   "id": "entire-leisure",
   "metadata": {
    "cell_style": "split"
   },
   "outputs": [],
   "source": [
    "def length_of_longest_substring(s, k):\n",
    "    window_start, max_length, max_repeat_letter_count = 0, 0, 0\n",
    "    frequency_map = {}\n",
    "\n",
    "    # Try to extend the range [window_start, window_end]\n",
    "    \n",
    "    for window_end in range(len(s)):\n",
    "        right_char = s[window_end]\n",
    "        if right_char not in frequency_map:\n",
    "            frequency_map[right_char] = 0\n",
    "        frequency_map[right_char] += 1\n",
    "        print('frequency_map', frequency_map)\n",
    "        \n",
    "        # Current window size is from window_start to window_end, overall we have a letter which is\n",
    "        # repeating 'max_repeat_letter_count' times, this means we can have a window which has one letter\n",
    "        # repeating 'max_repeat_letter_count' times and the remaining letters we should replace.\n",
    "        # if the remaining letters are more than 'k', it is the time to shrink the window as we\n",
    "        # are not allowed to replace more than 'k' letters\n",
    "        max_repeat_letter_count = max(max_repeat_letter_count, frequency_map[right_char])\n",
    "        if (window_end - window_start + 1 - max_repeat_letter_count) > k:\n",
    "            left_char = s[window_start]\n",
    "            frequency_map[left_char] -= 1\n",
    "            window_start += 1\n",
    "            \n",
    "        max_length = max(max_length, window_end - window_start + 1)\n",
    "        \n",
    "        print('======================================')\n",
    "        \n",
    "    return max_length\n"
   ]
  },
  {
   "cell_type": "code",
   "execution_count": 15,
   "id": "unnecessary-thong",
   "metadata": {},
   "outputs": [
    {
     "name": "stdout",
     "output_type": "stream",
     "text": [
      "frequency_map {'a': 1}\n",
      "======================================\n",
      "frequency_map {'a': 2}\n",
      "======================================\n",
      "frequency_map {'a': 2, 'b': 1}\n",
      "======================================\n",
      "frequency_map {'a': 2, 'b': 1, 'c': 1}\n",
      "======================================\n",
      "frequency_map {'a': 2, 'b': 1, 'c': 2}\n",
      "======================================\n",
      "frequency_map {'a': 1, 'b': 2, 'c': 2}\n",
      "======================================\n",
      "frequency_map {'a': 0, 'b': 3, 'c': 2}\n",
      "======================================\n"
     ]
    },
    {
     "data": {
      "text/plain": [
       "5"
      ]
     },
     "execution_count": 15,
     "metadata": {},
     "output_type": "execute_result"
    }
   ],
   "source": [
    "s=\"aabccbb\"\n",
    "k=2\n",
    "length_of_longest_substring(s, k)"
   ]
  },
  {
   "cell_type": "code",
   "execution_count": 12,
   "id": "extended-opposition",
   "metadata": {},
   "outputs": [
    {
     "data": {
      "text/plain": [
       "4"
      ]
     },
     "execution_count": 12,
     "metadata": {},
     "output_type": "execute_result"
    }
   ],
   "source": [
    "s=\"abbcb\"\n",
    "k=1\n",
    "length_of_longest_substring(s, k)"
   ]
  },
  {
   "cell_type": "code",
   "execution_count": 13,
   "id": "scheduled-presence",
   "metadata": {},
   "outputs": [
    {
     "data": {
      "text/plain": [
       "3"
      ]
     },
     "execution_count": 13,
     "metadata": {},
     "output_type": "execute_result"
    }
   ],
   "source": [
    "s=\"abccde\"\n",
    "k=1\n",
    "length_of_longest_substring(s, k)"
   ]
  },
  {
   "cell_type": "code",
   "execution_count": null,
   "id": "cognitive-vocabulary",
   "metadata": {},
   "outputs": [],
   "source": []
  },
  {
   "cell_type": "code",
   "execution_count": null,
   "id": "handled-nutrition",
   "metadata": {
    "cell_style": "split"
   },
   "outputs": [],
   "source": [
    "def characterReplacement(self, s, k):        \n",
    "    longest_window = 0\n",
    "    window_counts = collections.defaultdict(int)\n",
    "    l = 0\n",
    "    for r in range(len(s)):\n",
    "        window_counts[s[r]] += 1\n",
    "        while r - l + 1 - max(window_counts.values()) > k:\n",
    "            window_counts[s[l]] -= 1 \n",
    "            l += 1\n",
    "        longest_window = max(longest_window, r - l + 1)\n",
    "    return longest_window"
   ]
  },
  {
   "cell_type": "code",
   "execution_count": null,
   "id": "smart-bikini",
   "metadata": {},
   "outputs": [],
   "source": [
    "    def characterReplacement(self, s, k):\n",
    "        maxf = res = 0\n",
    "        count = collections.Counter()\n",
    "        for i in range(len(s)):\n",
    "            count[s[i]] += 1\n",
    "            maxf = max(maxf, count[s[i]])\n",
    "            if res - maxf < k:\n",
    "                res += 1\n",
    "            else:\n",
    "                count[s[i - res]] -= 1\n",
    "        return res"
   ]
  },
  {
   "cell_type": "code",
   "execution_count": null,
   "id": "technological-contribution",
   "metadata": {},
   "outputs": [],
   "source": []
  },
  {
   "cell_type": "code",
   "execution_count": null,
   "id": "geographic-monitor",
   "metadata": {},
   "outputs": [],
   "source": []
  }
 ],
 "metadata": {
  "kernelspec": {
   "display_name": "Python [conda env:py36] *",
   "language": "python",
   "name": "conda-env-py36-py"
  },
  "language_info": {
   "codemirror_mode": {
    "name": "ipython",
    "version": 3
   },
   "file_extension": ".py",
   "mimetype": "text/x-python",
   "name": "python",
   "nbconvert_exporter": "python",
   "pygments_lexer": "ipython3",
   "version": "3.6.12"
  },
  "toc": {
   "base_numbering": 1,
   "nav_menu": {},
   "number_sections": true,
   "sideBar": true,
   "skip_h1_title": false,
   "title_cell": "Table of Contents",
   "title_sidebar": "Contents",
   "toc_cell": false,
   "toc_position": {},
   "toc_section_display": true,
   "toc_window_display": false
  },
  "varInspector": {
   "cols": {
    "lenName": 16,
    "lenType": 16,
    "lenVar": 40
   },
   "kernels_config": {
    "python": {
     "delete_cmd_postfix": "",
     "delete_cmd_prefix": "del ",
     "library": "var_list.py",
     "varRefreshCmd": "print(var_dic_list())"
    },
    "r": {
     "delete_cmd_postfix": ") ",
     "delete_cmd_prefix": "rm(",
     "library": "var_list.r",
     "varRefreshCmd": "cat(var_dic_list()) "
    }
   },
   "types_to_exclude": [
    "module",
    "function",
    "builtin_function_or_method",
    "instance",
    "_Feature"
   ],
   "window_display": false
  }
 },
 "nbformat": 4,
 "nbformat_minor": 5
}
