{
 "cells": [
  {
   "cell_type": "raw",
   "id": "mental-subject",
   "metadata": {},
   "source": [
    "# to resize image afte attachment use the following fix:\n",
    "\n",
    "![image.jpg](attachment:image.jpg)\n",
    "\n",
    "<div>\n",
    "<img src=\"attachment:image.jpg\" align=\"left\" width=\"500\"/>\n",
    "</div>"
   ]
  },
  {
   "cell_type": "code",
   "execution_count": 1,
   "id": "centered-subscriber",
   "metadata": {
    "ExecuteTime": {
     "end_time": "2021-03-05T22:13:07.670324Z",
     "start_time": "2021-03-05T22:13:07.644348Z"
    }
   },
   "outputs": [
    {
     "data": {
      "application/javascript": [
       "var rate = 0;\n",
       "// apply setting to  all current CodeMirror instances\n",
       "IPython.notebook.get_cells().map(\n",
       "    function(c) {  return c.code_mirror.options.cursorBlinkRate=rate;  }\n",
       ");\n",
       "// make sure new CodeMirror instance also use this setting\n",
       "CodeMirror.defaults.cursorBlinkRate=rate;\n"
      ],
      "text/plain": [
       "<IPython.core.display.Javascript object>"
      ]
     },
     "metadata": {},
     "output_type": "display_data"
    }
   ],
   "source": [
    "%%javascript\n",
    "var rate = 0;\n",
    "// apply setting to  all current CodeMirror instances\n",
    "IPython.notebook.get_cells().map(\n",
    "    function(c) {  return c.code_mirror.options.cursorBlinkRate=rate;  }\n",
    ");\n",
    "// make sure new CodeMirror instance also use this setting\n",
    "CodeMirror.defaults.cursorBlinkRate=rate;"
   ]
  },
  {
   "cell_type": "code",
   "execution_count": 2,
   "id": "linear-range",
   "metadata": {},
   "outputs": [
    {
     "data": {
      "text/html": [
       "<style>.container { width:95% !important; }</style>"
      ],
      "text/plain": [
       "<IPython.core.display.HTML object>"
      ]
     },
     "metadata": {},
     "output_type": "display_data"
    }
   ],
   "source": [
    "from IPython.core.display import display, HTML\n",
    "display(HTML(\"<style>.container { width:95% !important; }</style>\"))"
   ]
  },
  {
   "cell_type": "code",
   "execution_count": 5,
   "id": "dynamic-arrangement",
   "metadata": {
    "ExecuteTime": {
     "end_time": "2021-03-05T22:13:07.908724Z",
     "start_time": "2021-03-05T22:13:07.904719Z"
    }
   },
   "outputs": [],
   "source": [
    "import math\n",
    "from typing import List\n",
    "import collections"
   ]
  },
  {
   "cell_type": "code",
   "execution_count": null,
   "id": "spectacular-virgin",
   "metadata": {},
   "outputs": [],
   "source": []
  },
  {
   "cell_type": "code",
   "execution_count": null,
   "id": "numerical-cigarette",
   "metadata": {},
   "outputs": [],
   "source": [
    "# Sliding Window"
   ]
  },
  {
   "cell_type": "code",
   "execution_count": 194,
   "id": "written-serve",
   "metadata": {},
   "outputs": [],
   "source": [
    "def lengthOfLongestSubstring(s: str) -> int:\n",
    "    chars = [0] * 128\n",
    "\n",
    "    left = right = 0\n",
    "\n",
    "    res = 0\n",
    "    \n",
    "    while right < len(s):\n",
    "        \n",
    "        print('right:', right)\n",
    "        \n",
    "        r = s[right]\n",
    "        \n",
    "        print('r:', r)\n",
    "        print('ord(r):', ord(r))\n",
    "        \n",
    "        chars[ord(r)] += 1\n",
    "\n",
    "        print('chars:', chars)\n",
    "        \n",
    "        while chars[ord(r)] > 1:\n",
    "            chars[ord(s[left])] -= 1\n",
    "            left += 1\n",
    "\n",
    "        res = max(res, right - left + 1)\n",
    "\n",
    "        right += 1\n",
    "        \n",
    "        print('==================')\n",
    "    \n",
    "    \n",
    "    return res"
   ]
  },
  {
   "cell_type": "code",
   "execution_count": 195,
   "id": "alpine-arizona",
   "metadata": {},
   "outputs": [
    {
     "name": "stdout",
     "output_type": "stream",
     "text": [
      "right: 0\n",
      "r: a\n",
      "ord(r): 97\n",
      "chars: [0, 0, 0, 0, 0, 0, 0, 0, 0, 0, 0, 0, 0, 0, 0, 0, 0, 0, 0, 0, 0, 0, 0, 0, 0, 0, 0, 0, 0, 0, 0, 0, 0, 0, 0, 0, 0, 0, 0, 0, 0, 0, 0, 0, 0, 0, 0, 0, 0, 0, 0, 0, 0, 0, 0, 0, 0, 0, 0, 0, 0, 0, 0, 0, 0, 0, 0, 0, 0, 0, 0, 0, 0, 0, 0, 0, 0, 0, 0, 0, 0, 0, 0, 0, 0, 0, 0, 0, 0, 0, 0, 0, 0, 0, 0, 0, 0, 1, 0, 0, 0, 0, 0, 0, 0, 0, 0, 0, 0, 0, 0, 0, 0, 0, 0, 0, 0, 0, 0, 0, 0, 0, 0, 0, 0, 0, 0, 0]\n",
      "==================\n",
      "right: 1\n",
      "r: b\n",
      "ord(r): 98\n",
      "chars: [0, 0, 0, 0, 0, 0, 0, 0, 0, 0, 0, 0, 0, 0, 0, 0, 0, 0, 0, 0, 0, 0, 0, 0, 0, 0, 0, 0, 0, 0, 0, 0, 0, 0, 0, 0, 0, 0, 0, 0, 0, 0, 0, 0, 0, 0, 0, 0, 0, 0, 0, 0, 0, 0, 0, 0, 0, 0, 0, 0, 0, 0, 0, 0, 0, 0, 0, 0, 0, 0, 0, 0, 0, 0, 0, 0, 0, 0, 0, 0, 0, 0, 0, 0, 0, 0, 0, 0, 0, 0, 0, 0, 0, 0, 0, 0, 0, 1, 1, 0, 0, 0, 0, 0, 0, 0, 0, 0, 0, 0, 0, 0, 0, 0, 0, 0, 0, 0, 0, 0, 0, 0, 0, 0, 0, 0, 0, 0]\n",
      "==================\n",
      "right: 2\n",
      "r: c\n",
      "ord(r): 99\n",
      "chars: [0, 0, 0, 0, 0, 0, 0, 0, 0, 0, 0, 0, 0, 0, 0, 0, 0, 0, 0, 0, 0, 0, 0, 0, 0, 0, 0, 0, 0, 0, 0, 0, 0, 0, 0, 0, 0, 0, 0, 0, 0, 0, 0, 0, 0, 0, 0, 0, 0, 0, 0, 0, 0, 0, 0, 0, 0, 0, 0, 0, 0, 0, 0, 0, 0, 0, 0, 0, 0, 0, 0, 0, 0, 0, 0, 0, 0, 0, 0, 0, 0, 0, 0, 0, 0, 0, 0, 0, 0, 0, 0, 0, 0, 0, 0, 0, 0, 1, 1, 1, 0, 0, 0, 0, 0, 0, 0, 0, 0, 0, 0, 0, 0, 0, 0, 0, 0, 0, 0, 0, 0, 0, 0, 0, 0, 0, 0, 0]\n",
      "==================\n",
      "right: 3\n",
      "r: c\n",
      "ord(r): 99\n",
      "chars: [0, 0, 0, 0, 0, 0, 0, 0, 0, 0, 0, 0, 0, 0, 0, 0, 0, 0, 0, 0, 0, 0, 0, 0, 0, 0, 0, 0, 0, 0, 0, 0, 0, 0, 0, 0, 0, 0, 0, 0, 0, 0, 0, 0, 0, 0, 0, 0, 0, 0, 0, 0, 0, 0, 0, 0, 0, 0, 0, 0, 0, 0, 0, 0, 0, 0, 0, 0, 0, 0, 0, 0, 0, 0, 0, 0, 0, 0, 0, 0, 0, 0, 0, 0, 0, 0, 0, 0, 0, 0, 0, 0, 0, 0, 0, 0, 0, 1, 1, 2, 0, 0, 0, 0, 0, 0, 0, 0, 0, 0, 0, 0, 0, 0, 0, 0, 0, 0, 0, 0, 0, 0, 0, 0, 0, 0, 0, 0]\n",
      "==================\n",
      "right: 4\n",
      "r: d\n",
      "ord(r): 100\n",
      "chars: [0, 0, 0, 0, 0, 0, 0, 0, 0, 0, 0, 0, 0, 0, 0, 0, 0, 0, 0, 0, 0, 0, 0, 0, 0, 0, 0, 0, 0, 0, 0, 0, 0, 0, 0, 0, 0, 0, 0, 0, 0, 0, 0, 0, 0, 0, 0, 0, 0, 0, 0, 0, 0, 0, 0, 0, 0, 0, 0, 0, 0, 0, 0, 0, 0, 0, 0, 0, 0, 0, 0, 0, 0, 0, 0, 0, 0, 0, 0, 0, 0, 0, 0, 0, 0, 0, 0, 0, 0, 0, 0, 0, 0, 0, 0, 0, 0, 0, 0, 1, 1, 0, 0, 0, 0, 0, 0, 0, 0, 0, 0, 0, 0, 0, 0, 0, 0, 0, 0, 0, 0, 0, 0, 0, 0, 0, 0, 0]\n",
      "==================\n",
      "right: 5\n",
      "r: e\n",
      "ord(r): 101\n",
      "chars: [0, 0, 0, 0, 0, 0, 0, 0, 0, 0, 0, 0, 0, 0, 0, 0, 0, 0, 0, 0, 0, 0, 0, 0, 0, 0, 0, 0, 0, 0, 0, 0, 0, 0, 0, 0, 0, 0, 0, 0, 0, 0, 0, 0, 0, 0, 0, 0, 0, 0, 0, 0, 0, 0, 0, 0, 0, 0, 0, 0, 0, 0, 0, 0, 0, 0, 0, 0, 0, 0, 0, 0, 0, 0, 0, 0, 0, 0, 0, 0, 0, 0, 0, 0, 0, 0, 0, 0, 0, 0, 0, 0, 0, 0, 0, 0, 0, 0, 0, 1, 1, 1, 0, 0, 0, 0, 0, 0, 0, 0, 0, 0, 0, 0, 0, 0, 0, 0, 0, 0, 0, 0, 0, 0, 0, 0, 0, 0]\n",
      "==================\n"
     ]
    },
    {
     "data": {
      "text/plain": [
       "3"
      ]
     },
     "execution_count": 195,
     "metadata": {},
     "output_type": "execute_result"
    }
   ],
   "source": [
    "string=\"abccde\"\n",
    "lengthOfLongestSubstring(string)"
   ]
  },
  {
   "cell_type": "code",
   "execution_count": null,
   "id": "adopted-sherman",
   "metadata": {},
   "outputs": [],
   "source": []
  },
  {
   "cell_type": "code",
   "execution_count": null,
   "id": "naughty-porter",
   "metadata": {},
   "outputs": [],
   "source": [
    "# Sliding Window Optimized"
   ]
  },
  {
   "cell_type": "code",
   "execution_count": 216,
   "id": "static-fisher",
   "metadata": {
    "cell_style": "split"
   },
   "outputs": [],
   "source": [
    "def non_repeat_substring(s):\n",
    "    \n",
    "    i_left = 0\n",
    "    best_length = 0\n",
    "    d = {}\n",
    "    \n",
    "    for i_right in range(len(s)):\n",
    "        \n",
    "        print('i_right:', i_right)\n",
    "        \n",
    "        right_char = s[i_right]\n",
    "        \n",
    "        print('right_char:', right_char)\n",
    "        \n",
    "        if right_char in d:\n",
    "            print('if:')\n",
    "            # in the current window, we will not have any \"right_char' after its previous index\n",
    "            # and if 'i_left' is already ahead of the last index of 'right_char', we'll keep i_left\n",
    "            print(' i_left:', i_left)\n",
    "            print(' d[right_char]:', d[right_char])\n",
    "            i_left = max(i_left, d[right_char] + 1)\n",
    "            print(' i_left:', i_left)\n",
    "\n",
    "        d[right_char] = i_right\n",
    "        \n",
    "        print('d:', d)\n",
    "        print('best_length:', best_length)\n",
    "        print('i_left:', i_left)\n",
    "        \n",
    "        best_length = max(best_length, i_right - i_left + 1)\n",
    "        \n",
    "        print('best_length:', best_length)\n",
    "        \n",
    "        print('======================================')\n",
    "        \n",
    "    return best_length"
   ]
  },
  {
   "cell_type": "code",
   "execution_count": 217,
   "id": "specific-rebound",
   "metadata": {
    "cell_style": "split"
   },
   "outputs": [
    {
     "name": "stdout",
     "output_type": "stream",
     "text": [
      "i_right: 0\n",
      "right_char: a\n",
      "d: {'a': 0}\n",
      "best_length: 0\n",
      "i_left: 0\n",
      "best_length: 1\n",
      "======================================\n",
      "i_right: 1\n",
      "right_char: a\n",
      "if:\n",
      " i_left: 0\n",
      " d[right_char]: 0\n",
      " i_left: 1\n",
      "d: {'a': 1}\n",
      "best_length: 1\n",
      "i_left: 1\n",
      "best_length: 1\n",
      "======================================\n",
      "i_right: 2\n",
      "right_char: b\n",
      "d: {'a': 1, 'b': 2}\n",
      "best_length: 1\n",
      "i_left: 1\n",
      "best_length: 2\n",
      "======================================\n",
      "i_right: 3\n",
      "right_char: c\n",
      "d: {'a': 1, 'b': 2, 'c': 3}\n",
      "best_length: 2\n",
      "i_left: 1\n",
      "best_length: 3\n",
      "======================================\n",
      "i_right: 4\n",
      "right_char: c\n",
      "if:\n",
      " i_left: 1\n",
      " d[right_char]: 3\n",
      " i_left: 4\n",
      "d: {'a': 1, 'b': 2, 'c': 4}\n",
      "best_length: 3\n",
      "i_left: 4\n",
      "best_length: 3\n",
      "======================================\n",
      "i_right: 5\n",
      "right_char: b\n",
      "if:\n",
      " i_left: 4\n",
      " d[right_char]: 2\n",
      " i_left: 4\n",
      "d: {'a': 1, 'b': 5, 'c': 4}\n",
      "best_length: 3\n",
      "i_left: 4\n",
      "best_length: 3\n",
      "======================================\n",
      "i_right: 6\n",
      "right_char: b\n",
      "if:\n",
      " i_left: 4\n",
      " d[right_char]: 5\n",
      " i_left: 6\n",
      "d: {'a': 1, 'b': 6, 'c': 4}\n",
      "best_length: 3\n",
      "i_left: 6\n",
      "best_length: 3\n",
      "======================================\n"
     ]
    },
    {
     "data": {
      "text/plain": [
       "3"
      ]
     },
     "execution_count": 217,
     "metadata": {},
     "output_type": "execute_result"
    }
   ],
   "source": [
    "string=\"aabccbb\"\n",
    "non_repeat_substring(string)"
   ]
  },
  {
   "cell_type": "code",
   "execution_count": 212,
   "id": "conservative-investigation",
   "metadata": {},
   "outputs": [
    {
     "name": "stdout",
     "output_type": "stream",
     "text": [
      "i_right: 0\n",
      "right_char: a\n",
      "d: {'a': 0}\n",
      "best_length: 0\n",
      "i_right: 0\n",
      "i_left: 0\n",
      "best_length: 1\n",
      "======================================\n",
      "i_right: 1\n",
      "right_char: b\n",
      "d: {'a': 0, 'b': 1}\n",
      "best_length: 1\n",
      "i_right: 1\n",
      "i_left: 0\n",
      "best_length: 2\n",
      "======================================\n",
      "i_right: 2\n",
      "right_char: c\n",
      "d: {'a': 0, 'b': 1, 'c': 2}\n",
      "best_length: 2\n",
      "i_right: 2\n",
      "i_left: 0\n",
      "best_length: 3\n",
      "======================================\n",
      "i_right: 3\n",
      "right_char: c\n",
      "if:\n",
      " i_left: 0\n",
      " d[right_char]: 2\n",
      "d: {'a': 0, 'b': 1, 'c': 3}\n",
      "best_length: 3\n",
      "i_right: 3\n",
      "i_left: 3\n",
      "best_length: 3\n",
      "======================================\n",
      "i_right: 4\n",
      "right_char: d\n",
      "d: {'a': 0, 'b': 1, 'c': 3, 'd': 4}\n",
      "best_length: 3\n",
      "i_right: 4\n",
      "i_left: 3\n",
      "best_length: 3\n",
      "======================================\n",
      "i_right: 5\n",
      "right_char: e\n",
      "d: {'a': 0, 'b': 1, 'c': 3, 'd': 4, 'e': 5}\n",
      "best_length: 3\n",
      "i_right: 5\n",
      "i_left: 3\n",
      "best_length: 3\n",
      "======================================\n"
     ]
    },
    {
     "data": {
      "text/plain": [
       "3"
      ]
     },
     "execution_count": 212,
     "metadata": {},
     "output_type": "execute_result"
    }
   ],
   "source": [
    "string=\"abccde\"\n",
    "non_repeat_substring(string)"
   ]
  },
  {
   "cell_type": "code",
   "execution_count": 219,
   "id": "economic-renaissance",
   "metadata": {},
   "outputs": [
    {
     "name": "stdout",
     "output_type": "stream",
     "text": [
      "i_right: 0\n",
      "right_char: a\n",
      "d: {'a': 0}\n",
      "best_length: 0\n",
      "i_left: 0\n",
      "best_length: 1\n",
      "======================================\n",
      "i_right: 1\n",
      "right_char: b\n",
      "d: {'a': 0, 'b': 1}\n",
      "best_length: 1\n",
      "i_left: 0\n",
      "best_length: 2\n",
      "======================================\n",
      "i_right: 2\n",
      "right_char: b\n",
      "if:\n",
      " i_left: 0\n",
      " d[right_char]: 1\n",
      " i_left: 2\n",
      "d: {'a': 0, 'b': 2}\n",
      "best_length: 2\n",
      "i_left: 2\n",
      "best_length: 2\n",
      "======================================\n",
      "i_right: 3\n",
      "right_char: b\n",
      "if:\n",
      " i_left: 2\n",
      " d[right_char]: 2\n",
      " i_left: 3\n",
      "d: {'a': 0, 'b': 3}\n",
      "best_length: 2\n",
      "i_left: 3\n",
      "best_length: 2\n",
      "======================================\n",
      "i_right: 4\n",
      "right_char: b\n",
      "if:\n",
      " i_left: 3\n",
      " d[right_char]: 3\n",
      " i_left: 4\n",
      "d: {'a': 0, 'b': 4}\n",
      "best_length: 2\n",
      "i_left: 4\n",
      "best_length: 2\n",
      "======================================\n"
     ]
    },
    {
     "data": {
      "text/plain": [
       "2"
      ]
     },
     "execution_count": 219,
     "metadata": {},
     "output_type": "execute_result"
    }
   ],
   "source": [
    "string=\"abbbb\"\n",
    "non_repeat_substring(string)"
   ]
  },
  {
   "cell_type": "code",
   "execution_count": null,
   "id": "russian-genome",
   "metadata": {},
   "outputs": [],
   "source": []
  },
  {
   "cell_type": "code",
   "execution_count": null,
   "id": "engaged-project",
   "metadata": {},
   "outputs": [],
   "source": []
  },
  {
   "cell_type": "code",
   "execution_count": null,
   "id": "optional-mount",
   "metadata": {},
   "outputs": [],
   "source": [
    "def lengthOfLongestSubstring(self, s):\n",
    "    \"\"\"\n",
    "    :type s: str\n",
    "    :rtype: int\n",
    "    \"\"\"\n",
    "    ans = 0\n",
    "    sub = ''\n",
    "    for char in s:\n",
    "        if char not in sub:\n",
    "            sub += char\n",
    "            ans = max(ans, len(sub))\n",
    "        else:\n",
    "            cut = sub.index(char)\n",
    "            sub = sub[cut+1:] + char\n",
    "    return ans"
   ]
  },
  {
   "cell_type": "code",
   "execution_count": 223,
   "id": "north-assembly",
   "metadata": {},
   "outputs": [],
   "source": [
    "# T for this solution is O(n). The line sub.index(char) has T O(n) but becouse sub str can consists only from unique characters it is fixed (there could be 128 characters at maximum)"
   ]
  },
  {
   "cell_type": "code",
   "execution_count": null,
   "id": "closed-serve",
   "metadata": {},
   "outputs": [],
   "source": []
  },
  {
   "cell_type": "code",
   "execution_count": null,
   "id": "weird-interface",
   "metadata": {},
   "outputs": [],
   "source": []
  }
 ],
 "metadata": {
  "kernelspec": {
   "display_name": "Python [conda env:py36] *",
   "language": "python",
   "name": "conda-env-py36-py"
  },
  "language_info": {
   "codemirror_mode": {
    "name": "ipython",
    "version": 3
   },
   "file_extension": ".py",
   "mimetype": "text/x-python",
   "name": "python",
   "nbconvert_exporter": "python",
   "pygments_lexer": "ipython3",
   "version": "3.6.12"
  },
  "toc": {
   "base_numbering": 1,
   "nav_menu": {},
   "number_sections": true,
   "sideBar": true,
   "skip_h1_title": false,
   "title_cell": "Table of Contents",
   "title_sidebar": "Contents",
   "toc_cell": false,
   "toc_position": {},
   "toc_section_display": true,
   "toc_window_display": false
  },
  "varInspector": {
   "cols": {
    "lenName": 16,
    "lenType": 16,
    "lenVar": 40
   },
   "kernels_config": {
    "python": {
     "delete_cmd_postfix": "",
     "delete_cmd_prefix": "del ",
     "library": "var_list.py",
     "varRefreshCmd": "print(var_dic_list())"
    },
    "r": {
     "delete_cmd_postfix": ") ",
     "delete_cmd_prefix": "rm(",
     "library": "var_list.r",
     "varRefreshCmd": "cat(var_dic_list()) "
    }
   },
   "types_to_exclude": [
    "module",
    "function",
    "builtin_function_or_method",
    "instance",
    "_Feature"
   ],
   "window_display": false
  }
 },
 "nbformat": 4,
 "nbformat_minor": 5
}
