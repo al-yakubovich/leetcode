{
 "cells": [
  {
   "cell_type": "raw",
   "id": "billion-director",
   "metadata": {},
   "source": [
    "# to resize image afte attachment use the following fix:\n",
    "\n",
    "![image.jpg](attachment:image.jpg)\n",
    "\n",
    "<div>\n",
    "<img src=\"attachment:image.jpg\" align=\"left\" width=\"500\"/>\n",
    "</div>"
   ]
  },
  {
   "cell_type": "code",
   "execution_count": 4,
   "id": "actual-tiffany",
   "metadata": {
    "ExecuteTime": {
     "end_time": "2021-03-05T22:13:07.670324Z",
     "start_time": "2021-03-05T22:13:07.644348Z"
    }
   },
   "outputs": [
    {
     "data": {
      "application/javascript": [
       "var rate = 0;\n",
       "// apply setting to  all current CodeMirror instances\n",
       "IPython.notebook.get_cells().map(\n",
       "    function(c) {  return c.code_mirror.options.cursorBlinkRate=rate;  }\n",
       ");\n",
       "// make sure new CodeMirror instance also use this setting\n",
       "CodeMirror.defaults.cursorBlinkRate=rate;\n"
      ],
      "text/plain": [
       "<IPython.core.display.Javascript object>"
      ]
     },
     "metadata": {},
     "output_type": "display_data"
    }
   ],
   "source": [
    "%%javascript\n",
    "var rate = 0;\n",
    "// apply setting to  all current CodeMirror instances\n",
    "IPython.notebook.get_cells().map(\n",
    "    function(c) {  return c.code_mirror.options.cursorBlinkRate=rate;  }\n",
    ");\n",
    "// make sure new CodeMirror instance also use this setting\n",
    "CodeMirror.defaults.cursorBlinkRate=rate;"
   ]
  },
  {
   "cell_type": "code",
   "execution_count": 5,
   "id": "located-audit",
   "metadata": {
    "scrolled": true
   },
   "outputs": [
    {
     "data": {
      "text/html": [
       "<style>.container { width:100% !important; }</style>"
      ],
      "text/plain": [
       "<IPython.core.display.HTML object>"
      ]
     },
     "metadata": {},
     "output_type": "display_data"
    }
   ],
   "source": [
    "from IPython.core.display import display, HTML\n",
    "display(HTML(\"<style>.container { width:100% !important; }</style>\"))"
   ]
  },
  {
   "cell_type": "code",
   "execution_count": 6,
   "id": "demographic-afternoon",
   "metadata": {
    "ExecuteTime": {
     "end_time": "2021-03-05T22:13:07.908724Z",
     "start_time": "2021-03-05T22:13:07.904719Z"
    }
   },
   "outputs": [],
   "source": [
    "import math\n",
    "from typing import List\n",
    "import collections"
   ]
  },
  {
   "cell_type": "code",
   "execution_count": null,
   "id": "cardiac-hayes",
   "metadata": {},
   "outputs": [],
   "source": []
  },
  {
   "cell_type": "code",
   "execution_count": 49,
   "id": "unnecessary-scale",
   "metadata": {
    "cell_style": "split"
   },
   "outputs": [],
   "source": [
    "# my successful attempt \n",
    "def triplet_sum_to_closest(a: List[int], t: int) -> int:\n",
    "\n",
    "    # if edge_cases(a) == False: return [[]]:\n",
    "    a.sort()\n",
    "    results = []\n",
    "    t_left = - math.inf\n",
    "    t_right = math.inf\n",
    "\n",
    "    for i in range(0, len(a)-2, 1):\n",
    "\n",
    "        \n",
    "        if i < len(a)-2 and i > 0 and a[i] == a[i-1]:\n",
    "            continue\n",
    "            \n",
    "\n",
    "        l, r = i+1, len(a)-1\n",
    "        \n",
    "        print('i:', i, ' l:', l, ' r:', r)\n",
    "        \n",
    "        while l < r:\n",
    "\n",
    "            s = a[i] + a[l] + a[r] \n",
    "            \n",
    "            print('s:', s)\n",
    "                       \n",
    "            if s == t:\n",
    "                return s\n",
    "\n",
    "            if s < t:\n",
    "                print(' if s < t:')\n",
    "                l += 1\n",
    "                if s > t_left:\n",
    "                    print('  if s > t_left:')\n",
    "                    t_left = s\n",
    "                # while l < r and a[l] == a[l-1]:\n",
    "                #     l += 1\n",
    "\n",
    "            elif s > t:\n",
    "                print(' elif s > t:')\n",
    "                r -= 1\n",
    "                if s < t_right:\n",
    "                    print('  if s < t_right:')\n",
    "                    t_right = s\n",
    "                # while l < r and a[r] == a[r+1]:\n",
    "                #     r -= 1\n",
    "                    \n",
    "            # else:\n",
    "            #     results.append([a[i], a[l], a[r]])\n",
    "            #     l += 1\n",
    "            #     r -= 1\n",
    "            #     while l < r and a[l] == a[l-1]:\n",
    "            #         l += 1\n",
    "            #     while l < r and r < len(a)-1 and a[r] == a[r+1]:\n",
    "            #         r -= 1\n",
    "    if t - t_left == t_right - t:\n",
    "        return t_left     \n",
    "    elif t - t_left < t_right - t:\n",
    "        return t_left\n",
    "    else:\n",
    "        return t_right"
   ]
  },
  {
   "cell_type": "code",
   "execution_count": 50,
   "id": "incomplete-relation",
   "metadata": {
    "cell_style": "split"
   },
   "outputs": [
    {
     "name": "stdout",
     "output_type": "stream",
     "text": [
      "i: 0  l: 1  r: 3\n",
      "s: 2\n",
      " if s < t:\n",
      "  if s > t_left:\n",
      "s: 2\n",
      " if s < t:\n",
      "i: 1  l: 2  r: 3\n",
      "s: 3\n",
      " if s < t:\n",
      "  if s > t_left:\n"
     ]
    },
    {
     "data": {
      "text/plain": [
       "3"
      ]
     },
     "execution_count": 50,
     "metadata": {},
     "output_type": "execute_result"
    }
   ],
   "source": [
    "#    0, 1, 1, 1\n",
    "a = [1, 0, 1, 1]\n",
    "t = 100\n",
    "triplet_sum_to_closest(a, t)"
   ]
  },
  {
   "cell_type": "code",
   "execution_count": 36,
   "id": "ignored-lawsuit",
   "metadata": {
    "cell_style": "center"
   },
   "outputs": [
    {
     "name": "stdout",
     "output_type": "stream",
     "text": [
      "0\n",
      " if s > t_left:\n",
      "1\n",
      " if s > t_left:\n",
      "3\n",
      " if s < t_right:\n"
     ]
    },
    {
     "data": {
      "text/plain": [
       "1"
      ]
     },
     "execution_count": 36,
     "metadata": {},
     "output_type": "execute_result"
    }
   ],
   "source": [
    "a = [-2, 0, 1, 2]\n",
    "t = 2\n",
    "triplet_sum_to_closest(a, t)\n"
   ]
  },
  {
   "cell_type": "code",
   "execution_count": 37,
   "id": "detected-jackson",
   "metadata": {},
   "outputs": [
    {
     "name": "stdout",
     "output_type": "stream",
     "text": [
      "-2\n",
      " if s > t_left:\n",
      "0\n",
      " if s > t_left:\n",
      "2\n",
      " if s < t_right:\n"
     ]
    },
    {
     "data": {
      "text/plain": [
       "0"
      ]
     },
     "execution_count": 37,
     "metadata": {},
     "output_type": "execute_result"
    }
   ],
   "source": [
    "a = [-3, -1, 1, 2]\n",
    "t = 1\n",
    "triplet_sum_to_closest(a, t)"
   ]
  },
  {
   "cell_type": "code",
   "execution_count": null,
   "id": "exterior-catalog",
   "metadata": {},
   "outputs": [],
   "source": []
  },
  {
   "cell_type": "code",
   "execution_count": null,
   "id": "twenty-sleeping",
   "metadata": {},
   "outputs": [],
   "source": []
  },
  {
   "cell_type": "code",
   "execution_count": null,
   "id": "utility-waterproof",
   "metadata": {},
   "outputs": [],
   "source": [
    "def threeSumClosest(nums: List[int], target: int) -> int:\n",
    "    diff = float('inf')\n",
    "    nums.sort()\n",
    "    for i in range(len(nums)):\n",
    "        lo, hi = i + 1, len(nums) - 1\n",
    "        while (lo < hi):\n",
    "            sum = nums[i] + nums[lo] + nums[hi]\n",
    "            if abs(target - sum) < abs(diff):\n",
    "                diff = target - sum\n",
    "            if sum < target:\n",
    "                lo += 1\n",
    "            else:\n",
    "                hi -= 1\n",
    "        if diff == 0:\n",
    "            break\n",
    "    return target - diff"
   ]
  },
  {
   "cell_type": "code",
   "execution_count": null,
   "id": "compliant-correspondence",
   "metadata": {},
   "outputs": [],
   "source": []
  },
  {
   "cell_type": "code",
   "execution_count": null,
   "id": "ambient-investigation",
   "metadata": {},
   "outputs": [],
   "source": []
  },
  {
   "cell_type": "code",
   "execution_count": null,
   "id": "pharmaceutical-kansas",
   "metadata": {},
   "outputs": [],
   "source": [
    "class Solution:\n",
    "    # @return an integer\n",
    "    def threeSumClosest(self, num, target):\n",
    "        num.sort()\n",
    "        result = math.inf\n",
    "        for i in range(len(num) - 2):\n",
    "            j, k = i+1, len(num) - 1\n",
    "            while j < k:\n",
    "                s = num[i] + num[j] + num[k]\n",
    "                if s == target:\n",
    "                    return s\n",
    "                \n",
    "                if abs(s - target) < abs(result - target):\n",
    "                    result = s\n",
    "                \n",
    "                if s < target:\n",
    "                    j += 1\n",
    "                elif s > target:\n",
    "                    k -= 1\n",
    "            \n",
    "        return result"
   ]
  },
  {
   "cell_type": "code",
   "execution_count": null,
   "id": "structured-fruit",
   "metadata": {},
   "outputs": [],
   "source": []
  }
 ],
 "metadata": {
  "kernelspec": {
   "display_name": "Python [conda env:py36] *",
   "language": "python",
   "name": "conda-env-py36-py"
  },
  "language_info": {
   "codemirror_mode": {
    "name": "ipython",
    "version": 3
   },
   "file_extension": ".py",
   "mimetype": "text/x-python",
   "name": "python",
   "nbconvert_exporter": "python",
   "pygments_lexer": "ipython3",
   "version": "3.6.12"
  },
  "toc": {
   "base_numbering": 1,
   "nav_menu": {},
   "number_sections": true,
   "sideBar": true,
   "skip_h1_title": false,
   "title_cell": "Table of Contents",
   "title_sidebar": "Contents",
   "toc_cell": false,
   "toc_position": {},
   "toc_section_display": true,
   "toc_window_display": false
  },
  "varInspector": {
   "cols": {
    "lenName": 16,
    "lenType": 16,
    "lenVar": 40
   },
   "kernels_config": {
    "python": {
     "delete_cmd_postfix": "",
     "delete_cmd_prefix": "del ",
     "library": "var_list.py",
     "varRefreshCmd": "print(var_dic_list())"
    },
    "r": {
     "delete_cmd_postfix": ") ",
     "delete_cmd_prefix": "rm(",
     "library": "var_list.r",
     "varRefreshCmd": "cat(var_dic_list()) "
    }
   },
   "types_to_exclude": [
    "module",
    "function",
    "builtin_function_or_method",
    "instance",
    "_Feature"
   ],
   "window_display": false
  }
 },
 "nbformat": 4,
 "nbformat_minor": 5
}
