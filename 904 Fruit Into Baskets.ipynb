{
 "cells": [
  {
   "cell_type": "raw",
   "id": "second-newsletter",
   "metadata": {},
   "source": [
    "# to resize image afte attachment use the following fix:\n",
    "\n",
    "![image.jpg](attachment:image.jpg)\n",
    "\n",
    "<div>\n",
    "<img src=\"attachment:image.jpg\" align=\"left\" width=\"500\"/>\n",
    "</div>"
   ]
  },
  {
   "cell_type": "code",
   "execution_count": 1,
   "id": "alert-carol",
   "metadata": {
    "ExecuteTime": {
     "end_time": "2021-03-05T22:13:07.670324Z",
     "start_time": "2021-03-05T22:13:07.644348Z"
    }
   },
   "outputs": [
    {
     "data": {
      "application/javascript": [
       "var rate = 0;\n",
       "// apply setting to  all current CodeMirror instances\n",
       "IPython.notebook.get_cells().map(\n",
       "    function(c) {  return c.code_mirror.options.cursorBlinkRate=rate;  }\n",
       ");\n",
       "// make sure new CodeMirror instance also use this setting\n",
       "CodeMirror.defaults.cursorBlinkRate=rate;\n"
      ],
      "text/plain": [
       "<IPython.core.display.Javascript object>"
      ]
     },
     "metadata": {},
     "output_type": "display_data"
    }
   ],
   "source": [
    "%%javascript\n",
    "var rate = 0;\n",
    "// apply setting to  all current CodeMirror instances\n",
    "IPython.notebook.get_cells().map(\n",
    "    function(c) {  return c.code_mirror.options.cursorBlinkRate=rate;  }\n",
    ");\n",
    "// make sure new CodeMirror instance also use this setting\n",
    "CodeMirror.defaults.cursorBlinkRate=rate;"
   ]
  },
  {
   "cell_type": "code",
   "execution_count": 2,
   "id": "regulation-education",
   "metadata": {},
   "outputs": [
    {
     "data": {
      "text/html": [
       "<style>.container { width:95% !important; }</style>"
      ],
      "text/plain": [
       "<IPython.core.display.HTML object>"
      ]
     },
     "metadata": {},
     "output_type": "display_data"
    }
   ],
   "source": [
    "from IPython.core.display import display, HTML\n",
    "display(HTML(\"<style>.container { width:95% !important; }</style>\"))"
   ]
  },
  {
   "cell_type": "code",
   "execution_count": 5,
   "id": "authentic-stage",
   "metadata": {
    "ExecuteTime": {
     "end_time": "2021-03-05T22:13:07.908724Z",
     "start_time": "2021-03-05T22:13:07.904719Z"
    }
   },
   "outputs": [],
   "source": [
    "import math\n",
    "from typing import List\n",
    "import collections"
   ]
  },
  {
   "cell_type": "code",
   "execution_count": null,
   "id": "global-report",
   "metadata": {},
   "outputs": [],
   "source": []
  },
  {
   "cell_type": "code",
   "execution_count": 93,
   "id": "disabled-award",
   "metadata": {},
   "outputs": [],
   "source": [
    "def fruites_picker(fruits):\n",
    "    d = {}\n",
    "    best_sum = 0\n",
    "    i_left = 0\n",
    "    for i_right in range(len(fruits)):\n",
    "        # print('i_right:', i_right)\n",
    "        # print('fruits[i_right]:', fruits[i_right])\n",
    "        \n",
    "        # []->\n",
    "        if fruits[i_right] in d:\n",
    "            d[fruits[i_right]] += 1\n",
    "        else: \n",
    "            d[fruits[i_right]] = 1\n",
    "        \n",
    "        # ->[]\n",
    "        if len(d) > 2:\n",
    "            # print('if len(d) > 2:') \n",
    "            if d[fruits[i_left]] == 1:\n",
    "                # print(' if')\n",
    "                del d[fruits[i_left]]\n",
    "            else:\n",
    "                # print(' else')\n",
    "                d[fruits[i_left]] -= 1\n",
    "            i_left += 1\n",
    "        \n",
    "        # best sum\n",
    "        current_sum = sum(d.values())\n",
    "        \n",
    "        best_sum = max(best_sum, current_sum)\n",
    "            \n",
    "        # print('=============================')\n",
    "    return best_sum"
   ]
  },
  {
   "cell_type": "code",
   "execution_count": 62,
   "id": "subtle-nepal",
   "metadata": {},
   "outputs": [
    {
     "data": {
      "text/plain": [
       "3"
      ]
     },
     "execution_count": 62,
     "metadata": {},
     "output_type": "execute_result"
    }
   ],
   "source": [
    "fruits=['A', 'B', 'C', 'A', 'C']\n",
    "fruites_picker(fruits)"
   ]
  },
  {
   "cell_type": "code",
   "execution_count": 63,
   "id": "crucial-disability",
   "metadata": {},
   "outputs": [
    {
     "data": {
      "text/plain": [
       "5"
      ]
     },
     "execution_count": 63,
     "metadata": {},
     "output_type": "execute_result"
    }
   ],
   "source": [
    "fruits=['A', 'B', 'C', 'B', 'B', 'C']\n",
    "fruites_picker(fruits)"
   ]
  },
  {
   "cell_type": "code",
   "execution_count": 64,
   "id": "indian-action",
   "metadata": {},
   "outputs": [
    {
     "data": {
      "text/plain": [
       "3"
      ]
     },
     "execution_count": 64,
     "metadata": {},
     "output_type": "execute_result"
    }
   ],
   "source": [
    "fruits=[1,2,1]\n",
    "fruites_picker(fruits)"
   ]
  },
  {
   "cell_type": "code",
   "execution_count": 65,
   "id": "adequate-thinking",
   "metadata": {},
   "outputs": [
    {
     "data": {
      "text/plain": [
       "3"
      ]
     },
     "execution_count": 65,
     "metadata": {},
     "output_type": "execute_result"
    }
   ],
   "source": [
    "fruits=[0,1,2,2]\n",
    "fruites_picker(fruits)"
   ]
  },
  {
   "cell_type": "code",
   "execution_count": 66,
   "id": "miniature-scale",
   "metadata": {},
   "outputs": [
    {
     "data": {
      "text/plain": [
       "4"
      ]
     },
     "execution_count": 66,
     "metadata": {},
     "output_type": "execute_result"
    }
   ],
   "source": [
    "fruits=[1,2,3,2,2]\n",
    "fruites_picker(fruits)"
   ]
  },
  {
   "cell_type": "code",
   "execution_count": 94,
   "id": "effective-accommodation",
   "metadata": {},
   "outputs": [
    {
     "data": {
      "text/plain": [
       "5"
      ]
     },
     "execution_count": 94,
     "metadata": {},
     "output_type": "execute_result"
    }
   ],
   "source": [
    "fruits=['3','3','3','1','2','1','1','2','3','3','4']\n",
    "fruites_picker(fruits)"
   ]
  },
  {
   "cell_type": "code",
   "execution_count": null,
   "id": "solar-vietnam",
   "metadata": {},
   "outputs": [],
   "source": []
  },
  {
   "cell_type": "code",
   "execution_count": 98,
   "id": "aboriginal-concentration",
   "metadata": {},
   "outputs": [],
   "source": [
    "def fruits_into_baskets(fruits):\n",
    "    window_start = 0\n",
    "    max_length = 0\n",
    "    fruit_frequency = {}\n",
    "    # try to extend the range [window_start, window_end]\n",
    "    for window_end in range(len(fruits)):\n",
    "        right_fruit = fruits[window_end]\n",
    "        if right_fruit not in fruit_frequency:\n",
    "            fruit_frequency[right_fruit] = 0\n",
    "        fruit_frequency[right_fruit] += 1\n",
    "        # shrink the sliding window, until we are left with '2' fruits in the fruit frequency dictionary\n",
    "        while len(fruit_frequency) > 2:\n",
    "            left_fruit = fruits[window_start]\n",
    "            fruit_frequency[left_fruit] -= 1\n",
    "            if fruit_frequency[left_fruit] == 0:\n",
    "                del fruit_frequency[left_fruit]\n",
    "            window_start += 1 # shrink the window\n",
    "        max_length = max(max_length, window_end-window_start + 1)\n",
    "    return max_length"
   ]
  },
  {
   "cell_type": "code",
   "execution_count": 99,
   "id": "sonic-practice",
   "metadata": {},
   "outputs": [
    {
     "data": {
      "text/plain": [
       "5"
      ]
     },
     "execution_count": 99,
     "metadata": {},
     "output_type": "execute_result"
    }
   ],
   "source": [
    "fruits=['3','3','3','1','2','1','1','2','3','3','4']\n",
    "fruits_into_baskets(fruits)"
   ]
  },
  {
   "cell_type": "code",
   "execution_count": null,
   "id": "banned-failing",
   "metadata": {},
   "outputs": [],
   "source": []
  },
  {
   "cell_type": "code",
   "execution_count": null,
   "id": "negative-opposition",
   "metadata": {},
   "outputs": [],
   "source": []
  }
 ],
 "metadata": {
  "kernelspec": {
   "display_name": "Python [conda env:py36] *",
   "language": "python",
   "name": "conda-env-py36-py"
  },
  "language_info": {
   "codemirror_mode": {
    "name": "ipython",
    "version": 3
   },
   "file_extension": ".py",
   "mimetype": "text/x-python",
   "name": "python",
   "nbconvert_exporter": "python",
   "pygments_lexer": "ipython3",
   "version": "3.6.12"
  },
  "toc": {
   "base_numbering": 1,
   "nav_menu": {},
   "number_sections": true,
   "sideBar": true,
   "skip_h1_title": false,
   "title_cell": "Table of Contents",
   "title_sidebar": "Contents",
   "toc_cell": false,
   "toc_position": {},
   "toc_section_display": true,
   "toc_window_display": false
  },
  "varInspector": {
   "cols": {
    "lenName": 16,
    "lenType": 16,
    "lenVar": 40
   },
   "kernels_config": {
    "python": {
     "delete_cmd_postfix": "",
     "delete_cmd_prefix": "del ",
     "library": "var_list.py",
     "varRefreshCmd": "print(var_dic_list())"
    },
    "r": {
     "delete_cmd_postfix": ") ",
     "delete_cmd_prefix": "rm(",
     "library": "var_list.r",
     "varRefreshCmd": "cat(var_dic_list()) "
    }
   },
   "types_to_exclude": [
    "module",
    "function",
    "builtin_function_or_method",
    "instance",
    "_Feature"
   ],
   "window_display": false
  }
 },
 "nbformat": 4,
 "nbformat_minor": 5
}
