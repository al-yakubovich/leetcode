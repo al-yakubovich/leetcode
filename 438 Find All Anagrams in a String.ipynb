{
 "cells": [
  {
   "cell_type": "raw",
   "id": "empty-divide",
   "metadata": {},
   "source": [
    "# to resize image afte attachment use the following fix:\n",
    "\n",
    "![image.jpg](attachment:image.jpg)\n",
    "\n",
    "<div>\n",
    "<img src=\"attachment:image.jpg\" align=\"left\" width=\"500\"/>\n",
    "</div>"
   ]
  },
  {
   "cell_type": "code",
   "execution_count": 1,
   "id": "aquatic-prince",
   "metadata": {
    "ExecuteTime": {
     "end_time": "2021-03-05T22:13:07.670324Z",
     "start_time": "2021-03-05T22:13:07.644348Z"
    }
   },
   "outputs": [
    {
     "data": {
      "application/javascript": [
       "var rate = 0;\n",
       "// apply setting to  all current CodeMirror instances\n",
       "IPython.notebook.get_cells().map(\n",
       "    function(c) {  return c.code_mirror.options.cursorBlinkRate=rate;  }\n",
       ");\n",
       "// make sure new CodeMirror instance also use this setting\n",
       "CodeMirror.defaults.cursorBlinkRate=rate;\n"
      ],
      "text/plain": [
       "<IPython.core.display.Javascript object>"
      ]
     },
     "metadata": {},
     "output_type": "display_data"
    }
   ],
   "source": [
    "%%javascript\n",
    "var rate = 0;\n",
    "// apply setting to  all current CodeMirror instances\n",
    "IPython.notebook.get_cells().map(\n",
    "    function(c) {  return c.code_mirror.options.cursorBlinkRate=rate;  }\n",
    ");\n",
    "// make sure new CodeMirror instance also use this setting\n",
    "CodeMirror.defaults.cursorBlinkRate=rate;"
   ]
  },
  {
   "cell_type": "code",
   "execution_count": 2,
   "id": "conservative-letters",
   "metadata": {},
   "outputs": [
    {
     "data": {
      "text/html": [
       "<style>.container { width:95% !important; }</style>"
      ],
      "text/plain": [
       "<IPython.core.display.HTML object>"
      ]
     },
     "metadata": {},
     "output_type": "display_data"
    }
   ],
   "source": [
    "from IPython.core.display import display, HTML\n",
    "display(HTML(\"<style>.container { width:95% !important; }</style>\"))"
   ]
  },
  {
   "cell_type": "code",
   "execution_count": 5,
   "id": "interstate-viewer",
   "metadata": {
    "ExecuteTime": {
     "end_time": "2021-03-05T22:13:07.908724Z",
     "start_time": "2021-03-05T22:13:07.904719Z"
    }
   },
   "outputs": [],
   "source": [
    "import math\n",
    "from typing import List\n",
    "import collections"
   ]
  },
  {
   "cell_type": "code",
   "execution_count": null,
   "id": "handed-moment",
   "metadata": {},
   "outputs": [],
   "source": []
  },
  {
   "cell_type": "code",
   "execution_count": 69,
   "id": "chubby-protein",
   "metadata": {},
   "outputs": [],
   "source": [
    "## brute force 1"
   ]
  },
  {
   "cell_type": "code",
   "execution_count": 206,
   "id": "swiss-disorder",
   "metadata": {},
   "outputs": [],
   "source": [
    "# N log N --> sorted(s1)\n",
    "# M log M --> sorted(sub)\n",
    "# TC: O( N log N + N (M log M + M) ) = {M ~ N} = O( N log N + N (M log N + N) ) ~ N^2 \n",
    "# TC: O( N log N + N (M log M + M) ) = {M << N} = N log N\n",
    "\n",
    "def checkInclusion(s1: str, s2: str) -> bool:\n",
    "    s1_sorted = ''.join(sorted(s1))\n",
    "    pattern_indexes = []\n",
    "    for i in range(0, len(s2) - len(s1) + 1):\n",
    "#         print('i:', i)\n",
    "        sub = s2[i: i + len(s1)]\n",
    "#         print('sub:', sub)\n",
    "        sub_sorted = ''.join(sorted(sub))\n",
    "\n",
    "        if sub_sorted == s1_sorted:\n",
    "            pattern_indexes.append(i)\n",
    "            \n",
    "    return pattern_indexes"
   ]
  },
  {
   "cell_type": "code",
   "execution_count": 207,
   "id": "english-sullivan",
   "metadata": {},
   "outputs": [
    {
     "data": {
      "text/plain": [
       "[1, 2]"
      ]
     },
     "execution_count": 207,
     "metadata": {},
     "output_type": "execute_result"
    }
   ],
   "source": [
    "String=\"ppqp\"\n",
    "Pattern=\"pq\"\n",
    "checkInclusion(Pattern, String)"
   ]
  },
  {
   "cell_type": "code",
   "execution_count": null,
   "id": "generous-prophet",
   "metadata": {},
   "outputs": [],
   "source": []
  },
  {
   "cell_type": "code",
   "execution_count": null,
   "id": "potential-reviewer",
   "metadata": {},
   "outputs": [],
   "source": []
  },
  {
   "cell_type": "code",
   "execution_count": 229,
   "id": "tight-scanning",
   "metadata": {},
   "outputs": [],
   "source": [
    "import collections\n",
    "\n",
    "def pattern_detector(p, s):\n",
    "    \n",
    "    pattern_indexes = []\n",
    "    \n",
    "    d_pattern = collections.defaultdict(int)\n",
    "    for i in p:\n",
    "        d_pattern[i] += 1\n",
    "        \n",
    "    d_current = collections.defaultdict(int)\n",
    "    \n",
    "    i_left = 0\n",
    "    pattern_detected = False\n",
    "    \n",
    "    for i_right in range(len(s)):\n",
    "        \n",
    "        d_current[s[i_right]] += 1\n",
    "            \n",
    "        print('d_current:', d_current)\n",
    "        print('d_pattern:', d_pattern)\n",
    "            \n",
    "        if d_current == d_pattern:\n",
    "            pattern_indexes.append(i_left)\n",
    "        \n",
    "        if i_right - i_left + 1 == len(p):\n",
    "        \n",
    "            d_current[s[i_left]] -= 1\n",
    "            \n",
    "            if d_current[s[i_left]] == 0:\n",
    "                del d_current[s[i_left]]\n",
    "                        \n",
    "            i_left += 1                \n",
    "        \n",
    "        \n",
    "    return pattern_indexes"
   ]
  },
  {
   "cell_type": "code",
   "execution_count": 230,
   "id": "individual-outdoors",
   "metadata": {},
   "outputs": [
    {
     "name": "stdout",
     "output_type": "stream",
     "text": [
      "d_current: defaultdict(<class 'int'>, {'p': 1})\n",
      "d_pattern: defaultdict(<class 'int'>, {'p': 1, 'q': 1})\n",
      "d_current: defaultdict(<class 'int'>, {'p': 2})\n",
      "d_pattern: defaultdict(<class 'int'>, {'p': 1, 'q': 1})\n",
      "d_current: defaultdict(<class 'int'>, {'p': 1, 'q': 1})\n",
      "d_pattern: defaultdict(<class 'int'>, {'p': 1, 'q': 1})\n",
      "d_current: defaultdict(<class 'int'>, {'q': 1, 'p': 1})\n",
      "d_pattern: defaultdict(<class 'int'>, {'p': 1, 'q': 1})\n"
     ]
    },
    {
     "data": {
      "text/plain": [
       "[1, 2]"
      ]
     },
     "execution_count": 230,
     "metadata": {},
     "output_type": "execute_result"
    }
   ],
   "source": [
    "String=\"ppqp\"\n",
    "Pattern=\"pq\"\n",
    "pattern_detector(Pattern, String)"
   ]
  },
  {
   "cell_type": "code",
   "execution_count": 232,
   "id": "unable-compact",
   "metadata": {},
   "outputs": [
    {
     "name": "stdout",
     "output_type": "stream",
     "text": [
      "d_current: defaultdict(<class 'int'>, {'c': 1})\n",
      "d_pattern: defaultdict(<class 'int'>, {'a': 1, 'b': 1, 'c': 1})\n",
      "d_current: defaultdict(<class 'int'>, {'c': 1, 'b': 1})\n",
      "d_pattern: defaultdict(<class 'int'>, {'a': 1, 'b': 1, 'c': 1})\n",
      "d_current: defaultdict(<class 'int'>, {'c': 1, 'b': 1, 'a': 1})\n",
      "d_pattern: defaultdict(<class 'int'>, {'a': 1, 'b': 1, 'c': 1})\n",
      "d_current: defaultdict(<class 'int'>, {'b': 1, 'a': 1, 'e': 1})\n",
      "d_pattern: defaultdict(<class 'int'>, {'a': 1, 'b': 1, 'c': 1})\n",
      "d_current: defaultdict(<class 'int'>, {'a': 1, 'e': 1, 'b': 1})\n",
      "d_pattern: defaultdict(<class 'int'>, {'a': 1, 'b': 1, 'c': 1})\n",
      "d_current: defaultdict(<class 'int'>, {'e': 1, 'b': 1, 'a': 1})\n",
      "d_pattern: defaultdict(<class 'int'>, {'a': 1, 'b': 1, 'c': 1})\n",
      "d_current: defaultdict(<class 'int'>, {'b': 2, 'a': 1})\n",
      "d_pattern: defaultdict(<class 'int'>, {'a': 1, 'b': 1, 'c': 1})\n",
      "d_current: defaultdict(<class 'int'>, {'b': 1, 'a': 2})\n",
      "d_pattern: defaultdict(<class 'int'>, {'a': 1, 'b': 1, 'c': 1})\n",
      "d_current: defaultdict(<class 'int'>, {'b': 1, 'a': 1, 'c': 1})\n",
      "d_pattern: defaultdict(<class 'int'>, {'a': 1, 'b': 1, 'c': 1})\n",
      "d_current: defaultdict(<class 'int'>, {'a': 1, 'c': 1, 'd': 1})\n",
      "d_pattern: defaultdict(<class 'int'>, {'a': 1, 'b': 1, 'c': 1})\n"
     ]
    },
    {
     "data": {
      "text/plain": [
       "[0, 6]"
      ]
     },
     "execution_count": 232,
     "metadata": {},
     "output_type": "execute_result"
    }
   ],
   "source": [
    "String=\"cbaebabacd\"\n",
    "Pattern=\"abc\"\n",
    "pattern_detector(Pattern, String)"
   ]
  },
  {
   "cell_type": "code",
   "execution_count": null,
   "id": "stuffed-afghanistan",
   "metadata": {},
   "outputs": [],
   "source": []
  },
  {
   "cell_type": "code",
   "execution_count": 233,
   "id": "interested-concrete",
   "metadata": {},
   "outputs": [],
   "source": [
    "def findAnagrams(self, s: str, p: str) -> List[int]:\n",
    "    ns, np = len(s), len(p)\n",
    "    if ns < np:\n",
    "        return []\n",
    "\n",
    "    p_count, s_count = [0] * 26, [0] * 26\n",
    "    # build reference array using string p\n",
    "    for ch in p:\n",
    "        p_count[ord(ch) - ord('a')] += 1\n",
    "\n",
    "    output = []\n",
    "    # sliding window on the string s\n",
    "    for i in range(ns):\n",
    "        # add one more letter \n",
    "        # on the right side of the window\n",
    "        s_count[ord(s[i]) - ord('a')] += 1\n",
    "        # remove one letter \n",
    "        # from the left side of the window\n",
    "        if i >= np:\n",
    "            s_count[ord(s[i - np]) - ord('a')] -= 1\n",
    "        # compare array in the sliding window\n",
    "        # with the reference array\n",
    "        if p_count == s_count:\n",
    "            output.append(i - np + 1)\n",
    "\n",
    "    return output"
   ]
  },
  {
   "cell_type": "code",
   "execution_count": null,
   "id": "veterinary-rebound",
   "metadata": {},
   "outputs": [],
   "source": []
  }
 ],
 "metadata": {
  "kernelspec": {
   "display_name": "Python [conda env:py36] *",
   "language": "python",
   "name": "conda-env-py36-py"
  },
  "language_info": {
   "codemirror_mode": {
    "name": "ipython",
    "version": 3
   },
   "file_extension": ".py",
   "mimetype": "text/x-python",
   "name": "python",
   "nbconvert_exporter": "python",
   "pygments_lexer": "ipython3",
   "version": "3.6.12"
  },
  "toc": {
   "base_numbering": 1,
   "nav_menu": {},
   "number_sections": true,
   "sideBar": true,
   "skip_h1_title": false,
   "title_cell": "Table of Contents",
   "title_sidebar": "Contents",
   "toc_cell": false,
   "toc_position": {},
   "toc_section_display": true,
   "toc_window_display": false
  },
  "varInspector": {
   "cols": {
    "lenName": 16,
    "lenType": 16,
    "lenVar": 40
   },
   "kernels_config": {
    "python": {
     "delete_cmd_postfix": "",
     "delete_cmd_prefix": "del ",
     "library": "var_list.py",
     "varRefreshCmd": "print(var_dic_list())"
    },
    "r": {
     "delete_cmd_postfix": ") ",
     "delete_cmd_prefix": "rm(",
     "library": "var_list.r",
     "varRefreshCmd": "cat(var_dic_list()) "
    }
   },
   "types_to_exclude": [
    "module",
    "function",
    "builtin_function_or_method",
    "instance",
    "_Feature"
   ],
   "window_display": false
  }
 },
 "nbformat": 4,
 "nbformat_minor": 5
}
