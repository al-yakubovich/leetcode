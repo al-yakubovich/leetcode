{
 "cells": [
  {
   "cell_type": "raw",
   "id": "ambient-mobile",
   "metadata": {},
   "source": [
    "# to resize image afte attachment use the following fix:\n",
    "\n",
    "![image.jpg](attachment:image.jpg)\n",
    "\n",
    "<div>\n",
    "<img src=\"attachment:image.jpg\" align=\"left\" width=\"500\"/>\n",
    "</div>"
   ]
  },
  {
   "cell_type": "code",
   "execution_count": 1,
   "id": "electoral-frontier",
   "metadata": {
    "ExecuteTime": {
     "end_time": "2021-03-05T22:13:07.670324Z",
     "start_time": "2021-03-05T22:13:07.644348Z"
    }
   },
   "outputs": [
    {
     "data": {
      "application/javascript": [
       "var rate = 0;\n",
       "// apply setting to  all current CodeMirror instances\n",
       "IPython.notebook.get_cells().map(\n",
       "    function(c) {  return c.code_mirror.options.cursorBlinkRate=rate;  }\n",
       ");\n",
       "// make sure new CodeMirror instance also use this setting\n",
       "CodeMirror.defaults.cursorBlinkRate=rate;\n"
      ],
      "text/plain": [
       "<IPython.core.display.Javascript object>"
      ]
     },
     "metadata": {},
     "output_type": "display_data"
    }
   ],
   "source": [
    "%%javascript\n",
    "var rate = 0;\n",
    "// apply setting to  all current CodeMirror instances\n",
    "IPython.notebook.get_cells().map(\n",
    "    function(c) {  return c.code_mirror.options.cursorBlinkRate=rate;  }\n",
    ");\n",
    "// make sure new CodeMirror instance also use this setting\n",
    "CodeMirror.defaults.cursorBlinkRate=rate;"
   ]
  },
  {
   "cell_type": "code",
   "execution_count": 2,
   "id": "hidden-agent",
   "metadata": {
    "scrolled": true
   },
   "outputs": [
    {
     "data": {
      "text/html": [
       "<style>.container { width:95% !important; }</style>"
      ],
      "text/plain": [
       "<IPython.core.display.HTML object>"
      ]
     },
     "metadata": {},
     "output_type": "display_data"
    }
   ],
   "source": [
    "from IPython.core.display import display, HTML\n",
    "display(HTML(\"<style>.container { width:95% !important; }</style>\"))"
   ]
  },
  {
   "cell_type": "code",
   "execution_count": 5,
   "id": "multiple-capacity",
   "metadata": {
    "ExecuteTime": {
     "end_time": "2021-03-05T22:13:07.908724Z",
     "start_time": "2021-03-05T22:13:07.904719Z"
    }
   },
   "outputs": [],
   "source": [
    "import math\n",
    "from typing import List\n",
    "import collections"
   ]
  },
  {
   "cell_type": "code",
   "execution_count": null,
   "id": "integral-amateur",
   "metadata": {},
   "outputs": [],
   "source": []
  },
  {
   "cell_type": "code",
   "execution_count": 62,
   "id": "expressed-grocery",
   "metadata": {},
   "outputs": [],
   "source": [
    "def match_sum_two(nums, target):\n",
    "    l, r = 0, len(nums) - 1\n",
    "    \n",
    "    while nums[l] + nums[r] != target:\n",
    "        if nums[l] + nums[r] > target:\n",
    "            r -= 1\n",
    "        else:\n",
    "            l += 1\n",
    "    return [l+1, r+1]"
   ]
  },
  {
   "cell_type": "code",
   "execution_count": 67,
   "id": "creative-comparative",
   "metadata": {},
   "outputs": [],
   "source": [
    "def match_sum_two(nums, target):\n",
    "    l, r = 0, len(nums) - 1\n",
    "    \n",
    "    while l< r:\n",
    "        current_sum = nums[l] + nums[r]\n",
    "        if current_sum == target:\n",
    "            return [l+1, r+1]\n",
    "        if current_sum > target:\n",
    "            r -= 1\n",
    "        else:\n",
    "            l += 1\n",
    "    return [-1, -1]"
   ]
  },
  {
   "cell_type": "code",
   "execution_count": 68,
   "id": "little-duplicate",
   "metadata": {},
   "outputs": [
    {
     "data": {
      "text/plain": [
       "[1, 3]"
      ]
     },
     "execution_count": 68,
     "metadata": {},
     "output_type": "execute_result"
    }
   ],
   "source": [
    "nums = [1, 2, 3, 4, 6]\n",
    "target = 6\n",
    "match_sum_two(nums, target)"
   ]
  },
  {
   "cell_type": "code",
   "execution_count": 69,
   "id": "internal-canadian",
   "metadata": {},
   "outputs": [
    {
     "data": {
      "text/plain": [
       "[0, 2]"
      ]
     },
     "execution_count": 69,
     "metadata": {},
     "output_type": "execute_result"
    }
   ],
   "source": [
    "nums = [2, 5, 9, 11]\n",
    "target = 11\n",
    "match_sum_two(nums, target)"
   ]
  },
  {
   "cell_type": "code",
   "execution_count": 72,
   "id": "smoking-turkish",
   "metadata": {},
   "outputs": [
    {
     "data": {
      "text/plain": [
       "[0, 1]"
      ]
     },
     "execution_count": 72,
     "metadata": {},
     "output_type": "execute_result"
    }
   ],
   "source": [
    "nums = [1, 2, 3, 2147483647]\n",
    "target = 3\n",
    "match_sum_two(nums, target)"
   ]
  },
  {
   "cell_type": "code",
   "execution_count": null,
   "id": "together-gothic",
   "metadata": {},
   "outputs": [],
   "source": []
  },
  {
   "cell_type": "code",
   "execution_count": 80,
   "id": "varying-municipality",
   "metadata": {},
   "outputs": [],
   "source": [
    "# dictionary           \n",
    "def twoSum2(numbers, target):\n",
    "    d = {}\n",
    "    for i, num in enumerate(numbers):\n",
    "        \n",
    "        if target-num in d:\n",
    "            return [d[target-num]+1, i+1]\n",
    "        d[num] = i\n",
    "        print(d)"
   ]
  },
  {
   "cell_type": "code",
   "execution_count": 81,
   "id": "falling-confidence",
   "metadata": {},
   "outputs": [
    {
     "name": "stdout",
     "output_type": "stream",
     "text": [
      "{1: 0}\n",
      "{1: 0, 2: 1}\n",
      "{1: 0, 2: 1, 3: 2}\n"
     ]
    },
    {
     "data": {
      "text/plain": [
       "[1, 3]"
      ]
     },
     "execution_count": 81,
     "metadata": {},
     "output_type": "execute_result"
    }
   ],
   "source": [
    "nums = [1, 2, 3, 4, 6]\n",
    "target = 6\n",
    "twoSum(nums, target)"
   ]
  },
  {
   "cell_type": "code",
   "execution_count": null,
   "id": "sporting-conclusion",
   "metadata": {},
   "outputs": [],
   "source": []
  },
  {
   "cell_type": "code",
   "execution_count": 96,
   "id": "appreciated-irrigation",
   "metadata": {
    "cell_style": "split"
   },
   "outputs": [],
   "source": [
    "# binary search        \n",
    "def twoSum(numbers, target):\n",
    "    for i in range(len(numbers)):\n",
    "        print('i: ', i)\n",
    "        l, r = i+1, len(numbers)-1\n",
    "        print('l: ', l, 'r: ', r)\n",
    "        tmp = target - numbers[i]\n",
    "        print('tmp', tmp)\n",
    "        while l <= r:\n",
    "            print(' while')\n",
    "            mid = l + (r-l)//2\n",
    "            print(' mid:', mid)\n",
    "            print(' numbers[mid]:', numbers[mid])\n",
    "            if numbers[mid] == tmp:\n",
    "                return [i+1, mid+1]\n",
    "            elif numbers[mid] < tmp:\n",
    "                l = mid+1\n",
    "            else:\n",
    "                r = mid-1\n",
    "        print('\\n')"
   ]
  },
  {
   "cell_type": "code",
   "execution_count": 97,
   "id": "purple-spanking",
   "metadata": {
    "cell_style": "split"
   },
   "outputs": [
    {
     "name": "stdout",
     "output_type": "stream",
     "text": [
      "i:  0\n",
      "l:  1 r:  4\n",
      "tmp 5\n",
      " while\n",
      " mid: 2\n",
      " numbers[mid]: 3\n",
      " while\n",
      " mid: 3\n",
      " numbers[mid]: 4\n",
      " while\n",
      " mid: 4\n",
      " numbers[mid]: 6\n",
      "\n",
      "\n",
      "i:  1\n",
      "l:  2 r:  4\n",
      "tmp 4\n",
      " while\n",
      " mid: 3\n",
      " numbers[mid]: 4\n"
     ]
    },
    {
     "data": {
      "text/plain": [
       "[2, 4]"
      ]
     },
     "execution_count": 97,
     "metadata": {},
     "output_type": "execute_result"
    }
   ],
   "source": [
    "nums = [1, 2, 3, 4, 6]\n",
    "target = 6\n",
    "twoSum(nums, target)"
   ]
  },
  {
   "cell_type": "code",
   "execution_count": null,
   "id": "dominant-meter",
   "metadata": {},
   "outputs": [],
   "source": []
  }
 ],
 "metadata": {
  "kernelspec": {
   "display_name": "Python [conda env:py36] *",
   "language": "python",
   "name": "conda-env-py36-py"
  },
  "language_info": {
   "codemirror_mode": {
    "name": "ipython",
    "version": 3
   },
   "file_extension": ".py",
   "mimetype": "text/x-python",
   "name": "python",
   "nbconvert_exporter": "python",
   "pygments_lexer": "ipython3",
   "version": "3.6.12"
  },
  "toc": {
   "base_numbering": 1,
   "nav_menu": {},
   "number_sections": true,
   "sideBar": true,
   "skip_h1_title": false,
   "title_cell": "Table of Contents",
   "title_sidebar": "Contents",
   "toc_cell": false,
   "toc_position": {},
   "toc_section_display": true,
   "toc_window_display": false
  },
  "varInspector": {
   "cols": {
    "lenName": 16,
    "lenType": 16,
    "lenVar": 40
   },
   "kernels_config": {
    "python": {
     "delete_cmd_postfix": "",
     "delete_cmd_prefix": "del ",
     "library": "var_list.py",
     "varRefreshCmd": "print(var_dic_list())"
    },
    "r": {
     "delete_cmd_postfix": ") ",
     "delete_cmd_prefix": "rm(",
     "library": "var_list.r",
     "varRefreshCmd": "cat(var_dic_list()) "
    }
   },
   "types_to_exclude": [
    "module",
    "function",
    "builtin_function_or_method",
    "instance",
    "_Feature"
   ],
   "window_display": false
  }
 },
 "nbformat": 4,
 "nbformat_minor": 5
}
