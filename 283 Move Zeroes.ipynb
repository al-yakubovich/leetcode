{
 "cells": [
  {
   "cell_type": "code",
   "execution_count": 1,
   "id": "interpreted-wonder",
   "metadata": {
    "ExecuteTime": {
     "end_time": "2021-03-05T22:13:07.670324Z",
     "start_time": "2021-03-05T22:13:07.644348Z"
    }
   },
   "outputs": [
    {
     "data": {
      "application/javascript": [
       "var rate = 0;\n",
       "// apply setting to  all current CodeMirror instances\n",
       "IPython.notebook.get_cells().map(\n",
       "    function(c) {  return c.code_mirror.options.cursorBlinkRate=rate;  }\n",
       ");\n",
       "// make sure new CodeMirror instance also use this setting\n",
       "CodeMirror.defaults.cursorBlinkRate=rate;\n"
      ],
      "text/plain": [
       "<IPython.core.display.Javascript object>"
      ]
     },
     "metadata": {},
     "output_type": "display_data"
    }
   ],
   "source": [
    "%%javascript\n",
    "var rate = 0;\n",
    "// apply setting to  all current CodeMirror instances\n",
    "IPython.notebook.get_cells().map(\n",
    "    function(c) {  return c.code_mirror.options.cursorBlinkRate=rate;  }\n",
    ");\n",
    "// make sure new CodeMirror instance also use this setting\n",
    "CodeMirror.defaults.cursorBlinkRate=rate;"
   ]
  },
  {
   "cell_type": "code",
   "execution_count": 2,
   "id": "fiscal-survey",
   "metadata": {},
   "outputs": [
    {
     "data": {
      "text/html": [
       "<style>.container { width:95% !important; }</style>"
      ],
      "text/plain": [
       "<IPython.core.display.HTML object>"
      ]
     },
     "metadata": {},
     "output_type": "display_data"
    }
   ],
   "source": [
    "from IPython.core.display import display, HTML\n",
    "display(HTML(\"<style>.container { width:95% !important; }</style>\"))"
   ]
  },
  {
   "cell_type": "code",
   "execution_count": null,
   "id": "overhead-lightning",
   "metadata": {},
   "outputs": [],
   "source": []
  },
  {
   "cell_type": "code",
   "execution_count": 26,
   "id": "muslim-admission",
   "metadata": {
    "ExecuteTime": {
     "end_time": "2021-02-23T23:27:21.804178Z",
     "start_time": "2021-02-23T23:27:21.800180Z"
    }
   },
   "outputs": [],
   "source": [
    "array = [0,1,0,3,12]"
   ]
  },
  {
   "cell_type": "code",
   "execution_count": 27,
   "id": "previous-investing",
   "metadata": {
    "ExecuteTime": {
     "end_time": "2021-02-23T23:27:22.065899Z",
     "start_time": "2021-02-23T23:27:22.052903Z"
    }
   },
   "outputs": [
    {
     "name": "stdout",
     "output_type": "stream",
     "text": [
      "0\n"
     ]
    },
    {
     "ename": "ValueError",
     "evalue": "list.remove(x): x not in list",
     "output_type": "error",
     "traceback": [
      "\u001b[1;31m---------------------------------------------------------------------------\u001b[0m",
      "\u001b[1;31mValueError\u001b[0m                                Traceback (most recent call last)",
      "\u001b[1;32m<ipython-input-27-4258d624fe73>\u001b[0m in \u001b[0;36m<module>\u001b[1;34m\u001b[0m\n\u001b[0;32m      5\u001b[0m     \u001b[1;32mif\u001b[0m \u001b[0marray\u001b[0m\u001b[1;33m[\u001b[0m\u001b[0mi\u001b[0m\u001b[1;33m]\u001b[0m \u001b[1;33m==\u001b[0m \u001b[1;36m0\u001b[0m\u001b[1;33m:\u001b[0m\u001b[1;33m\u001b[0m\u001b[1;33m\u001b[0m\u001b[0m\n\u001b[0;32m      6\u001b[0m         \u001b[0mprint\u001b[0m\u001b[1;33m(\u001b[0m\u001b[0marray\u001b[0m\u001b[1;33m[\u001b[0m\u001b[0mi\u001b[0m\u001b[1;33m]\u001b[0m\u001b[1;33m)\u001b[0m\u001b[1;33m\u001b[0m\u001b[1;33m\u001b[0m\u001b[0m\n\u001b[1;32m----> 7\u001b[1;33m         \u001b[0marray\u001b[0m\u001b[1;33m.\u001b[0m\u001b[0mremove\u001b[0m\u001b[1;33m(\u001b[0m\u001b[0mi\u001b[0m\u001b[1;33m)\u001b[0m\u001b[1;33m\u001b[0m\u001b[1;33m\u001b[0m\u001b[0m\n\u001b[0m\u001b[0;32m      8\u001b[0m         \u001b[0mcount\u001b[0m \u001b[1;33m+=\u001b[0m \u001b[1;36m1\u001b[0m\u001b[1;33m\u001b[0m\u001b[1;33m\u001b[0m\u001b[0m\n",
      "\u001b[1;31mValueError\u001b[0m: list.remove(x): x not in list"
     ]
    }
   ],
   "source": [
    "# O(2)\n",
    "count = 0\n",
    "\n",
    "for i in range(len(array)-1, -1, -1):\n",
    "    if array[i] == 0:\n",
    "        print(array[i])\n",
    "        array.remove(i)\n",
    "        count += 1"
   ]
  },
  {
   "cell_type": "code",
   "execution_count": 45,
   "id": "quiet-youth",
   "metadata": {
    "ExecuteTime": {
     "end_time": "2021-02-23T23:48:36.054069Z",
     "start_time": "2021-02-23T23:48:36.049065Z"
    }
   },
   "outputs": [],
   "source": [
    "array = [0,1,0,0,0,3,12]"
   ]
  },
  {
   "cell_type": "code",
   "execution_count": 46,
   "id": "industrial-hartford",
   "metadata": {
    "ExecuteTime": {
     "end_time": "2021-02-23T23:48:36.355477Z",
     "start_time": "2021-02-23T23:48:36.346479Z"
    }
   },
   "outputs": [
    {
     "name": "stdout",
     "output_type": "stream",
     "text": [
      "1\n",
      "0\n",
      "0\n",
      "1\n",
      "----------------------\n",
      "3\n",
      "0\n",
      "0\n",
      "3\n",
      "----------------------\n",
      "12\n",
      "0\n",
      "0\n",
      "12\n",
      "----------------------\n"
     ]
    }
   ],
   "source": [
    "i_zero = 0  # records the position of \"0\"\n",
    "nums = array\n",
    "for i in range(len(nums)):\n",
    "    if nums[i] != 0:\n",
    "        print(nums[i])\n",
    "        print(nums[i_zero])\n",
    "        nums[i], nums[i_zero] = nums[i_zero], nums[i]\n",
    "        print(nums[i])\n",
    "        print(nums[i_zero])\n",
    "        i_zero += 1\n",
    "        print('----------------------')"
   ]
  },
  {
   "cell_type": "code",
   "execution_count": null,
   "id": "opponent-percentage",
   "metadata": {},
   "outputs": [],
   "source": [
    "def moveZeroes(self, nums):\n",
    "        if nums and len(nums) > 1:\n",
    "            j = 0\n",
    "            for i in range(len(nums)):\n",
    "                if nums[i]:\n",
    "                    if not nums[j]: # check if necessary to swap\n",
    "                        nums[i], nums[j] = nums[j], nums[i]\n",
    "                    j += 1"
   ]
  },
  {
   "cell_type": "code",
   "execution_count": 48,
   "id": "corporate-costa",
   "metadata": {
    "ExecuteTime": {
     "end_time": "2021-02-24T00:01:38.527460Z",
     "start_time": "2021-02-24T00:01:38.522460Z"
    }
   },
   "outputs": [],
   "source": [
    "#  O(n^2)\n",
    "i=0\n",
    "j=len(nums)\n",
    "while i<j:\n",
    "    if nums[i]==0:\n",
    "        del nums[i]\n",
    "        nums.append(0)\n",
    "        j-=1\n",
    "    else:i+=1"
   ]
  },
  {
   "cell_type": "code",
   "execution_count": null,
   "id": "composite-state",
   "metadata": {},
   "outputs": [],
   "source": []
  }
 ],
 "metadata": {
  "kernelspec": {
   "display_name": "Python [conda env:py36] *",
   "language": "python",
   "name": "conda-env-py36-py"
  },
  "language_info": {
   "codemirror_mode": {
    "name": "ipython",
    "version": 3
   },
   "file_extension": ".py",
   "mimetype": "text/x-python",
   "name": "python",
   "nbconvert_exporter": "python",
   "pygments_lexer": "ipython3",
   "version": "3.6.12"
  },
  "toc": {
   "base_numbering": 1,
   "nav_menu": {},
   "number_sections": true,
   "sideBar": true,
   "skip_h1_title": false,
   "title_cell": "Table of Contents",
   "title_sidebar": "Contents",
   "toc_cell": false,
   "toc_position": {},
   "toc_section_display": true,
   "toc_window_display": false
  },
  "varInspector": {
   "cols": {
    "lenName": 16,
    "lenType": 16,
    "lenVar": 40
   },
   "kernels_config": {
    "python": {
     "delete_cmd_postfix": "",
     "delete_cmd_prefix": "del ",
     "library": "var_list.py",
     "varRefreshCmd": "print(var_dic_list())"
    },
    "r": {
     "delete_cmd_postfix": ") ",
     "delete_cmd_prefix": "rm(",
     "library": "var_list.r",
     "varRefreshCmd": "cat(var_dic_list()) "
    }
   },
   "types_to_exclude": [
    "module",
    "function",
    "builtin_function_or_method",
    "instance",
    "_Feature"
   ],
   "window_display": false
  }
 },
 "nbformat": 4,
 "nbformat_minor": 5
}
