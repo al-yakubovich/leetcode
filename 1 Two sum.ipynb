{
 "cells": [
  {
   "cell_type": "raw",
   "id": "increasing-advantage",
   "metadata": {},
   "source": [
    "# to resize image afte attachment use the following fix:\n",
    "\n",
    "![image.jpg](attachment:image.jpg)\n",
    "\n",
    "<div>\n",
    "<img src=\"attachment:image.jpg\" align=\"left\" width=\"500\"/>\n",
    "</div>"
   ]
  },
  {
   "cell_type": "code",
   "execution_count": 1,
   "id": "lightweight-italic",
   "metadata": {
    "ExecuteTime": {
     "end_time": "2021-03-05T22:13:07.670324Z",
     "start_time": "2021-03-05T22:13:07.644348Z"
    }
   },
   "outputs": [
    {
     "data": {
      "application/javascript": [
       "var rate = 0;\n",
       "// apply setting to  all current CodeMirror instances\n",
       "IPython.notebook.get_cells().map(\n",
       "    function(c) {  return c.code_mirror.options.cursorBlinkRate=rate;  }\n",
       ");\n",
       "// make sure new CodeMirror instance also use this setting\n",
       "CodeMirror.defaults.cursorBlinkRate=rate;\n"
      ],
      "text/plain": [
       "<IPython.core.display.Javascript object>"
      ]
     },
     "metadata": {},
     "output_type": "display_data"
    }
   ],
   "source": [
    "%%javascript\n",
    "var rate = 0;\n",
    "// apply setting to  all current CodeMirror instances\n",
    "IPython.notebook.get_cells().map(\n",
    "    function(c) {  return c.code_mirror.options.cursorBlinkRate=rate;  }\n",
    ");\n",
    "// make sure new CodeMirror instance also use this setting\n",
    "CodeMirror.defaults.cursorBlinkRate=rate;"
   ]
  },
  {
   "cell_type": "code",
   "execution_count": null,
   "id": "facial-simple",
   "metadata": {},
   "outputs": [],
   "source": []
  },
  {
   "cell_type": "markdown",
   "id": "demonstrated-patrol",
   "metadata": {
    "ExecuteTime": {
     "end_time": "2021-02-21T19:43:49.505237Z",
     "start_time": "2021-02-21T19:43:49.497236Z"
    }
   },
   "source": [
    "https://leetcode.com/problems/two-sum/"
   ]
  },
  {
   "cell_type": "markdown",
   "id": "desperate-surgeon",
   "metadata": {
    "ExecuteTime": {
     "end_time": "2021-02-21T19:34:42.587333Z",
     "start_time": "2021-02-21T19:34:42.569337Z"
    }
   },
   "source": [
    "Given an array of integers nums and an integer target, return indices of the two numbers such that they add up to target."
   ]
  },
  {
   "cell_type": "code",
   "execution_count": 90,
   "id": "another-helicopter",
   "metadata": {
    "ExecuteTime": {
     "end_time": "2021-02-21T19:34:43.178643Z",
     "start_time": "2021-02-21T19:34:43.171643Z"
    },
    "code_folding": []
   },
   "outputs": [],
   "source": [
    "    def twoSum(self, nums, target):\n",
    "        d = {}\n",
    "        for i, n in enumerate(nums):\n",
    "            m = target - n\n",
    "            if m in d:\n",
    "                return [d[m], i]\n",
    "            else:\n",
    "                d[n] = i"
   ]
  },
  {
   "cell_type": "code",
   "execution_count": null,
   "id": "toxic-worthy",
   "metadata": {},
   "outputs": [],
   "source": [
    "\n",
    "#This question is same as that in the Google interview question video.\n",
    "#We are given an array of integers and a particular sum.\n",
    "#We have to check if there are any two elements in the array that add up to the given sum.\n",
    "#For example, array = [1,2,4,5] ,sum = 6\n",
    "#This should return True as 2+4 = 6\n",
    "\n",
    "\n",
    "#Again, the very first solution that comes to mind is the naive, or brute force approach. Lets implement that.\n",
    "\n",
    "array = [1,2,4,5]\n",
    "sum = 3\n",
    "def brute_force_pair_sum(array, sum):\n",
    "    for i in range(len(array)):\n",
    "        for j in range(i+1,len(array)):\n",
    "            if array[i] + array[j] == sum:\n",
    "                return \"Yes\"\n",
    "    return \"No\"\n",
    "\n",
    "#print(brute_force_pair_sum(array, sum))\n",
    "\n",
    "#As we can clearly see, the complexity of this function is O(n^2), which will become very inefficient for large inputs\n",
    "#We need to  optimize the function\n",
    "\n",
    "\n",
    "#One solution better than O(n^2) that comes to mind is :\n",
    "#We loop through the array once and for every element we encounter, we calculate its complement,i.e., the number which when added\n",
    "#to the element at hand, will give the sum.\n",
    "#Then we do a binary search for this complement in the remaining portion of the array\n",
    "#Since binary search is O(log n) and we loop through the array once, the overall complexity is O(nlog n), which is better than O(n^2)\n",
    "\n",
    "def binary_search(array,left,right, ele):\n",
    "    if right >= left:\n",
    "        mid = (left+right)//2\n",
    "        if (array[mid]) == ele:\n",
    "            return True\n",
    "        elif array[mid] > ele:\n",
    "            return binary_search(array, left, mid - 1, ele)\n",
    "        else:\n",
    "            return binary_search(array, mid + 1, right, ele)\n",
    "    else:\n",
    "        return False\n",
    "\n",
    "def slightly_better_pair_sum(array, sum):\n",
    "    for i in range(len(array)):\n",
    "        comp = sum - array[i]\n",
    "        if binary_search(array,i+1,len(array)-1,comp):\n",
    "            return \"Yes\"\n",
    "    return \"No\"\n",
    "\n",
    "print(slightly_better_pair_sum(array,sum))\n",
    "\n",
    "#We have arrived at an O(nlog n) function from the naive O(n^2)\n",
    "#But this is still not great and it seems like there is some scope for improvement.\n",
    "#Lets try to make it O(n)\n",
    "\n",
    "#One solution is :\n",
    "#We take one element from each end and calculate their sum. If it equals the given sum, job done!\n",
    "#If not, and if the given sum is greater than what we get, it means we require the sum of the pair to be higher\n",
    "#To achieve that we move the left index by one and add the corresponding element to the element at the right index\n",
    "#And if the given sum is less than what we get, it means we require the sum of the pair to be smaller,\n",
    "#So we move the right index one step left and add the corresponding element to the element at the left index.\n",
    "#We keep on moving like this until we find a pair which adds up to the given sum or until the left and right indices cross\n",
    "#Since this procedure requires only one traversal of the array, the complexity is O(n)!\n",
    "\n",
    "\n",
    "def smart_pair_sum(array, sum):\n",
    "    left = 0\n",
    "    right = len(array)-1\n",
    "    while right > left:\n",
    "        if array[left] + array[right] == sum:\n",
    "            return \"Yes\"\n",
    "        elif array[left] + array[right] > sum:\n",
    "            right -= 1\n",
    "        else:\n",
    "            left += 1\n",
    "    return \"No\"\n",
    "\n",
    "print(smart_pair_sum(array,sum))\n",
    "\n",
    "\n",
    "#Although we have achieved an efficient time complexity of O(n) we've done so under the assumption that the array will be sorted\n",
    "#What if the array isn't sorted?\n",
    "#In that case the first solution that comes to mind is that we can sort the array in O(nlog n) time\n",
    "#And then perform the smart_pair_sum operation on the sorted array to give us a final time complexity of O(nlog n)\n",
    "#Python's built-in sort method uses Tim Sort which has an average case time coplexity of O(nlog n)\n",
    "#So we can simply use that, or use a different sorting algorithm such as quicksort or heapsort.\n",
    "#Here, we are going with the built-in method\n",
    "\n",
    "\n",
    "def sort_pair_sum(array, sum):\n",
    "    array.sort()\n",
    "    left = 0\n",
    "    right = len(array)-1\n",
    "    while right > left:\n",
    "        if array[left] + array[right] == sum:\n",
    "            return \"Yes\"\n",
    "        elif array[left] + array[right] > sum:\n",
    "            right -= 1\n",
    "        else:\n",
    "            left += 1\n",
    "    return \"No\"\n",
    "\n",
    "print(sort_pair_sum(array,sum))\n",
    "\n",
    "#This solves our problem if the array is unsorted to begin with.\n",
    "#But we have lost out on time complexity as we have gone from O(n) to O(nlog n)\n",
    "#One thing we can do to get back to O(n) complexity is :\n",
    "#We can create a dictionary as we go along the array and enter the element we encounter to the dictionary\n",
    "#If the complement of the present element isn't already present in the dictionary\n",
    "#That is, we loop through the array once, and first check if the complement of the current element is present in the dictionary\n",
    "#If yes, then we return \"Yes\". If no, then we add the current element to the dictionary.\n",
    "\n",
    "def smartest_pair_sum(array, sum):\n",
    "    dictionary = dict()\n",
    "    for item in array:\n",
    "        comp = sum - item\n",
    "        if not comp in dictionary:\n",
    "            dictionary[item] = True\n",
    "        else:\n",
    "            return \"Yes\"\n",
    "    return \"No\"\n",
    "\n",
    "print(smartest_pair_sum(array, sum))\n",
    "\n",
    "#We have achieved an O(n) algorithm taking into consideration that the array can be unsorted!"
   ]
  },
  {
   "cell_type": "code",
   "execution_count": null,
   "id": "swiss-third",
   "metadata": {},
   "outputs": [],
   "source": []
  },
  {
   "cell_type": "code",
   "execution_count": null,
   "id": "alert-effect",
   "metadata": {},
   "outputs": [],
   "source": []
  },
  {
   "cell_type": "code",
   "execution_count": 98,
   "id": "departmental-summer",
   "metadata": {
    "cell_style": "split"
   },
   "outputs": [],
   "source": [
    "# dictionary \n",
    "def twoSum1(nums, target):\n",
    "    dic = {}\n",
    "    for i, num in enumerate(nums):\n",
    "        if target-num in dic:\n",
    "            return (dic[target-num]+1, i+1)\n",
    "        dic[num] = i"
   ]
  },
  {
   "cell_type": "code",
   "execution_count": 135,
   "id": "dietary-subdivision",
   "metadata": {
    "cell_style": "split"
   },
   "outputs": [],
   "source": [
    "# two-pointer       \n",
    "def twoSum(nums, target):\n",
    "    nums = enumerate(nums)\n",
    "    print(nums)\n",
    "    nums = sorted(nums, key=lambda x:x[1])\n",
    "    print(nums)\n",
    "    l, r = 0, len(nums)-1\n",
    "    while l < r:\n",
    "        print(' while')\n",
    "        print(' l:', l)\n",
    "        print(' r:', r)\n",
    "        print(' nums[l][1]', nums[l][1])\n",
    "        print(' nums[r][1]', nums[r][1])\n",
    "        if nums[l][1]+nums[r][1] == target:\n",
    "            return sorted([nums[l][0], nums[r][0]])\n",
    "        elif nums[l][1]+nums[r][1] < target:\n",
    "            l += 1\n",
    "        else:\n",
    "            r -= 1"
   ]
  },
  {
   "cell_type": "code",
   "execution_count": 136,
   "id": "desperate-enlargement",
   "metadata": {
    "cell_style": "split"
   },
   "outputs": [
    {
     "name": "stdout",
     "output_type": "stream",
     "text": [
      "<enumerate object at 0x00000137CB1ADF30>\n",
      "[(3, 2), (0, 7), (1, 11), (2, 15)]\n",
      " while\n",
      " l: 0\n",
      " r: 3\n",
      " nums[l][1] 2\n",
      " nums[r][1] 15\n",
      " while\n",
      " l: 0\n",
      " r: 2\n",
      " nums[l][1] 2\n",
      " nums[r][1] 11\n",
      " while\n",
      " l: 0\n",
      " r: 1\n",
      " nums[l][1] 2\n",
      " nums[r][1] 7\n"
     ]
    },
    {
     "data": {
      "text/plain": [
       "[0, 3]"
      ]
     },
     "execution_count": 136,
     "metadata": {},
     "output_type": "execute_result"
    }
   ],
   "source": [
    "nums = [7,11,15,2]\n",
    "target = 9\n",
    "twoSum(nums, target)"
   ]
  },
  {
   "cell_type": "code",
   "execution_count": 108,
   "id": "becoming-pricing",
   "metadata": {},
   "outputs": [
    {
     "name": "stdout",
     "output_type": "stream",
     "text": [
      "<enumerate object at 0x00000137CB016CF0>\n",
      "[(1, 2), (0, 3), (2, 4)]\n"
     ]
    },
    {
     "data": {
      "text/plain": [
       "[1, 2]"
      ]
     },
     "execution_count": 108,
     "metadata": {},
     "output_type": "execute_result"
    }
   ],
   "source": [
    "nums = [3,2,4]\n",
    "target = 6\n",
    "twoSum(nums, target)"
   ]
  },
  {
   "cell_type": "code",
   "execution_count": null,
   "id": "appreciated-sheep",
   "metadata": {},
   "outputs": [],
   "source": []
  },
  {
   "cell_type": "code",
   "execution_count": null,
   "id": "fourth-parker",
   "metadata": {},
   "outputs": [],
   "source": []
  }
 ],
 "metadata": {
  "kernelspec": {
   "display_name": "Python [conda env:py36] *",
   "language": "python",
   "name": "conda-env-py36-py"
  },
  "language_info": {
   "codemirror_mode": {
    "name": "ipython",
    "version": 3
   },
   "file_extension": ".py",
   "mimetype": "text/x-python",
   "name": "python",
   "nbconvert_exporter": "python",
   "pygments_lexer": "ipython3",
   "version": "3.6.12"
  },
  "toc": {
   "base_numbering": 1,
   "nav_menu": {},
   "number_sections": true,
   "sideBar": true,
   "skip_h1_title": false,
   "title_cell": "Table of Contents",
   "title_sidebar": "Contents",
   "toc_cell": false,
   "toc_position": {},
   "toc_section_display": true,
   "toc_window_display": false
  },
  "varInspector": {
   "cols": {
    "lenName": 16,
    "lenType": 16,
    "lenVar": 40
   },
   "kernels_config": {
    "python": {
     "delete_cmd_postfix": "",
     "delete_cmd_prefix": "del ",
     "library": "var_list.py",
     "varRefreshCmd": "print(var_dic_list())"
    },
    "r": {
     "delete_cmd_postfix": ") ",
     "delete_cmd_prefix": "rm(",
     "library": "var_list.r",
     "varRefreshCmd": "cat(var_dic_list()) "
    }
   },
   "types_to_exclude": [
    "module",
    "function",
    "builtin_function_or_method",
    "instance",
    "_Feature"
   ],
   "window_display": false
  }
 },
 "nbformat": 4,
 "nbformat_minor": 5
}
